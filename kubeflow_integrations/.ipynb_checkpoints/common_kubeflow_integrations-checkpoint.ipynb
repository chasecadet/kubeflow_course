{
 "cells": [
  {
   "cell_type": "markdown",
   "id": "d29a39d6-e72e-4986-85ba-18a35eac837f",
   "metadata": {
    "tags": []
   },
   "source": [
    "<p align=\"center\">\n",
    "  <img src=\"techno_volcano.png\" />\n",
    "</p>\n"
   ]
  },
  {
   "cell_type": "code",
   "execution_count": 59,
   "id": "44527695-635a-4b88-af90-eaccd73514c7",
   "metadata": {
    "tags": []
   },
   "outputs": [
    {
     "name": "stdout",
     "output_type": "stream",
     "text": [
      "updating pvc value to xgboostlocal\n",
      "updating pvc value to xgboostlocal\n",
      "{'apiVersion': 'kubeflow.org/v1', 'kind': 'XGBoostJob', 'metadata': {'name': 'xgboost-dist-iris-test-train-local'}, 'spec': {'xgbReplicaSpecs': {'Master': {'replicas': 1, 'restartPolicy': 'Never', 'template': {'spec': {'volumes': [{'name': 'task-pv-storage', 'persistentVolumeClaim': {'claimName': 'xgboostlocal'}}], 'containers': [{'name': 'xgboost', 'image': 'docker.io/kubeflow/xgboost-dist-iris:latest', 'volumeMounts': [{'name': 'task-pv-storage', 'mountPath': '<PVC_NAME>'}], 'ports': [{'containerPort': 9991, 'name': 'xgboostjob-port'}], 'imagePullPolicy': 'Always', 'args': ['--job_type=Train', '--xgboost_parameter=objective:multi:softprob,num_class:3', '--n_estimators=10', '--learning_rate=0.1', '--model_path=/tmp/xgboost_model/iris_model', '--model_storage_type=local']}]}}}, 'Worker': {'replicas': 3, 'restartPolicy': 'ExitCode', 'template': {'spec': {'volumes': [{'name': 'task-pv-storage', 'persistentVolumeClaim': {'claimName': 'xgboostlocal'}}], 'containers': [{'name': 'xgboost', 'image': 'docker.io/kubeflow/xgboost-dist-iris:latest', 'volumeMounts': [{'name': 'task-pv-storage', 'mountPath': '<PVC_NAME>'}], 'ports': [{'containerPort': 9991, 'name': 'xgboostjob-port'}], 'imagePullPolicy': 'Always', 'args': ['--job_type=Train', '--xgboost_parameter=\"objective:multi:softprob,num_class:3\"', '--n_estimators=10', '--learning_rate=0.1', '--model_path=/tmp/xgboost_model/iris_model', '--model_storage_type=local']}]}}}}}}\n",
      "xgboost-dist-iris-test-train-local does not exist, creating a new one.\n",
      "Custom resource applied. Status: {'apiVersion': 'kubeflow.org/v1', 'kind': 'XGBoostJob', 'metadata': {'creationTimestamp': '2024-04-01T12:41:33Z', 'generation': 1, 'managedFields': [{'apiVersion': 'kubeflow.org/v1', 'fieldsType': 'FieldsV1', 'fieldsV1': {'f:spec': {'.': {}, 'f:xgbReplicaSpecs': {'.': {}, 'f:Master': {'.': {}, 'f:replicas': {}, 'f:restartPolicy': {}, 'f:template': {'.': {}, 'f:spec': {'.': {}, 'f:containers': {}, 'f:volumes': {}}}}, 'f:Worker': {'.': {}, 'f:replicas': {}, 'f:restartPolicy': {}, 'f:template': {'.': {}, 'f:spec': {'.': {}, 'f:containers': {}, 'f:volumes': {}}}}}}}, 'manager': 'your-field-manager', 'operation': 'Update', 'time': '2024-04-01T12:41:33Z'}], 'name': 'xgboost-dist-iris-test-train-local', 'namespace': 'christensenc3526', 'resourceVersion': '63434045', 'uid': '689e79f5-a127-4b74-9a4b-1021affc53b4'}, 'spec': {'xgbReplicaSpecs': {'Master': {'replicas': 1, 'restartPolicy': 'Never', 'template': {'spec': {'containers': [{'args': ['--job_type=Train', '--xgboost_parameter=objective:multi:softprob,num_class:3', '--n_estimators=10', '--learning_rate=0.1', '--model_path=/tmp/xgboost_model/iris_model', '--model_storage_type=local'], 'image': 'docker.io/kubeflow/xgboost-dist-iris:latest', 'imagePullPolicy': 'Always', 'name': 'xgboost', 'ports': [{'containerPort': 9991, 'name': 'xgboostjob-port', 'protocol': 'TCP'}], 'volumeMounts': [{'mountPath': '<PVC_NAME>', 'name': 'task-pv-storage'}]}], 'volumes': [{'name': 'task-pv-storage', 'persistentVolumeClaim': {'claimName': 'xgboostlocal'}}]}}}, 'Worker': {'replicas': 3, 'restartPolicy': 'ExitCode', 'template': {'spec': {'containers': [{'args': ['--job_type=Train', '--xgboost_parameter=\"objective:multi:softprob,num_class:3\"', '--n_estimators=10', '--learning_rate=0.1', '--model_path=/tmp/xgboost_model/iris_model', '--model_storage_type=local'], 'image': 'docker.io/kubeflow/xgboost-dist-iris:latest', 'imagePullPolicy': 'Always', 'name': 'xgboost', 'ports': [{'containerPort': 9991, 'name': 'xgboostjob-port', 'protocol': 'TCP'}], 'volumeMounts': [{'mountPath': '<PVC_NAME>', 'name': 'task-pv-storage'}]}], 'volumes': [{'name': 'task-pv-storage', 'persistentVolumeClaim': {'claimName': 'xgboostlocal'}}]}}}}}}\n"
     ]
    }
   ],
   "source": [
    "import sys\n",
    "from kubernetes import client, config\n",
    "import yaml\n",
    "import requests\n",
    "\n",
    "def get_yaml_from_git(repo_url,pvc_name):\n",
    "    response = requests.get(repo_url)\n",
    "    if response.status_code == 200:\n",
    "        yaml_content = yaml.safe_load(response.text)\n",
    "        \n",
    "        # Assuming the structure of the YAML is consistent with your example,\n",
    "        # update PVC names for both Master and Worker\n",
    "        for role in ['Master', 'Worker']:\n",
    "            if role in yaml_content['spec']['xgbReplicaSpecs']:\n",
    "                for volume in yaml_content['spec']['xgbReplicaSpecs'][role]['template']['spec']['volumes']:\n",
    "                    if volume['name'] == 'task-pv-storage':\n",
    "                        print(\"updating pvc value to\",pvc_name)\n",
    "                        volume['persistentVolumeClaim']['claimName'] = pvc_name    \n",
    "        print(yaml_content)\n",
    "        return yaml_content\n",
    "    else:\n",
    "        raise Exception(f\"Failed to get YAML file from {repo_url}. Status code: {response.status_code}\")\n",
    "        sys.exit(1)\n",
    "\n",
    "def get_namespace():\n",
    "    # Path to the namespace file inside a pod\n",
    "    namespace_path = '/var/run/secrets/kubernetes.io/serviceaccount/namespace'\n",
    "    with open(namespace_path, 'r') as file:\n",
    "        return file.read().strip()\n",
    "\n",
    "def apply_custom_resource_conditionally(api_instance, group, version, namespace, plural, body):\n",
    "    name = body['metadata']['name']\n",
    "    \n",
    "    try:\n",
    "        # Retrieve the existing resource, if it exists\n",
    "        existing_resource = api_instance.get_namespaced_custom_object(\n",
    "            group=group,\n",
    "            version=version,\n",
    "            namespace=namespace,\n",
    "            plural=plural,\n",
    "            name=name,\n",
    "        )\n",
    "        \n",
    "        # Check the status of the existing resource\n",
    "        conditions = existing_resource.get(\"status\", {}).get(\"conditions\", [])\n",
    "        print(conditions)\n",
    "        succeeded_condition = next((condition for condition in conditions if condition.get(\"reason\") == \"XGBoostJobSucceeded\"), None)\n",
    "        if succeeded_condition and succeeded_condition.get(\"status\") == \"True\":\n",
    "            print(f\"{name} has Succeeded status, proceeding to delete.\")\n",
    "            # Proceed to delete the resource\n",
    "            delete_response = api_instance.delete_namespaced_custom_object(\n",
    "                group=group,\n",
    "                version=version,\n",
    "                namespace=namespace,\n",
    "                plural=plural,\n",
    "                name=name,\n",
    "                body=client.V1DeleteOptions(),  # You can provide additional options here\n",
    "            )\n",
    "            print(f\"Deleted {name}. Delete response: {delete_response}\")\n",
    "        else:\n",
    "            current_conditions = [f\"{condition['type']}: {condition['status']}\" for condition in conditions]\n",
    "            print(f\"Existing {name} has not Succeeded. Current conditions: {', '.join(current_conditions) if current_conditions else 'Unknown'}\")\n",
    "            sys.exit(1)  # Exit with error status if the job hasn't succeeded or the condition is not found\n",
    "    except client.exceptions.ApiException as e:\n",
    "        if e.status != 404:\n",
    "            print(f\"An unexpected error occurred while checking existing {name}: {e}\")\n",
    "            sys.exit(1)  # Exit with error status if an unexpected API error occurs\n",
    "        else:\n",
    "            print(f\"{name} does not exist, creating a new one.\")\n",
    "    # If here, either the job doesn't exist or it's safe to replace\n",
    "    # Proceed with creating or updating the resource\n",
    "    # This example shows creating/updating without handling the actual logic\n",
    "    # Replace or update the resource as per your requirement\n",
    "    try:\n",
    "        api_response = api_instance.create_namespaced_custom_object(\n",
    "            group=group,\n",
    "            version=version,\n",
    "            namespace=namespace,\n",
    "            plural=plural,\n",
    "            body=body,\n",
    "            field_manager=\"your-field-manager\"  # for server-side apply you need field_manager\n",
    "        )\n",
    "        print(\"Custom resource applied. Status: %s\" % api_response)\n",
    "    except client.exceptions.ApiException as e:\n",
    "        print(f\"Failed to apply {name}: {e}\")\n",
    "        sys.exit(1)\n",
    "\n",
    "# Example usage\n",
    "if __name__ == \"__main__\":\n",
    "    config.load_incluster_config()\n",
    "    api_instance = client.CustomObjectsApi()\n",
    "    yaml_file_url = 'https://raw.githubusercontent.com/chasecadet/kubeflow_course/main/kubeflow_integrations/volcano_iris_train.yml'\n",
    "    crd_manifest = get_yaml_from_git(yaml_file_url,\"xgboostlocal\")\n",
    "\n",
    "    group = 'kubeflow.org'\n",
    "    version = 'v1'\n",
    "    plural = 'xgboostjobs'\n",
    "    # Get namespace\n",
    "    namespace = get_namespace()\n",
    "    apply_custom_resource_conditionally(api_instance, group, version, namespace, plural, crd_manifest)\n",
    "\n"
   ]
  },
  {
   "cell_type": "code",
   "execution_count": null,
   "id": "d5f5d3cf-d90f-4039-92dc-b99a0d33eea5",
   "metadata": {},
   "outputs": [],
   "source": []
  }
 ],
 "metadata": {
  "kernelspec": {
   "display_name": "Python 3 (ipykernel)",
   "language": "python",
   "name": "python3"
  },
  "language_info": {
   "codemirror_mode": {
    "name": "ipython",
    "version": 3
   },
   "file_extension": ".py",
   "mimetype": "text/x-python",
   "name": "python",
   "nbconvert_exporter": "python",
   "pygments_lexer": "ipython3",
   "version": "3.11.6"
  }
 },
 "nbformat": 4,
 "nbformat_minor": 5
}
