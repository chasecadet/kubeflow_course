{
 "cells": [
  {
   "cell_type": "markdown",
   "id": "d29a39d6-e72e-4986-85ba-18a35eac837f",
   "metadata": {
    "tags": []
   },
   "source": [
    "<p align=\"center\">\n",
    "  <img src=\"techno_volcano.png\" />\n",
    "</p>\n"
   ]
  },
  {
   "cell_type": "code",
   "execution_count": 16,
   "id": "073a9ecd-b357-40ef-9448-ab1111556c25",
   "metadata": {
    "tags": []
   },
   "outputs": [
    {
     "name": "stdout",
     "output_type": "stream",
     "text": [
      "{'experiments': [{'created_at': datetime.datetime(2024, 2, 17, 17, 59, 4, tzinfo=tzlocal()),\n",
      "                  'description': 'my first Kubeflow experiment! ',\n",
      "                  'display_name': 'hello_kubeflow',\n",
      "                  'experiment_id': 'c9e56f11-3433-4cef-a1a4-d3fb20c9b26e',\n",
      "                  'namespace': 'christensenc3526',\n",
      "                  'storage_state': 'AVAILABLE'},\n",
      "                 {'created_at': datetime.datetime(2024, 2, 18, 16, 5, 37, tzinfo=tzlocal()),\n",
      "                  'description': None,\n",
      "                  'display_name': 'new_experiment',\n",
      "                  'experiment_id': 'bc7afbde-6c81-41e5-b7ef-ef81545c36e7',\n",
      "                  'namespace': 'christensenc3526',\n",
      "                  'storage_state': 'AVAILABLE'},\n",
      "                 {'created_at': datetime.datetime(2024, 2, 26, 4, 33, 34, tzinfo=tzlocal()),\n",
      "                  'description': None,\n",
      "                  'display_name': 'Default',\n",
      "                  'experiment_id': '7671697d-de7a-47a8-975a-27b0b89575ee',\n",
      "                  'namespace': 'christensenc3526',\n",
      "                  'storage_state': 'AVAILABLE'}],\n",
      " 'next_page_token': None,\n",
      " 'total_size': 3}\n"
     ]
    },
    {
     "name": "stderr",
     "output_type": "stream",
     "text": [
      "/opt/conda/lib/python3.11/site-packages/kfp/client/client.py:159: FutureWarning: This client only works with Kubeflow Pipeline v2.0.0-beta.2 and later versions.\n",
      "  warnings.warn(\n"
     ]
    }
   ],
   "source": [
    "import kfp\n",
    "from kfp import dsl\n",
    "from kfp import compiler\n",
    "from kfp.client import Client\n",
    "\n",
    "\n",
    "client = kfp.Client()\n",
    "print(client.list_experiments())"
   ]
  },
  {
   "cell_type": "code",
   "execution_count": 23,
   "id": "f2656a62-27fe-45f8-9b9d-2e800941a32d",
   "metadata": {
    "tags": []
   },
   "outputs": [],
   "source": [
    "@dsl.component(target_image='chasechristensen/xgboost_train_component:v2')\n",
    "def xgboost_train(claim_name: str, raw_manifest_url:str, timeout_period: float,max_timeout: float, worker_replicas: float,master_replicas: float) -> None:\n",
    "    config.load_incluster_config()\n",
    "    api_instance = client.CustomObjectsApi()\n",
    "    crd_manifest = get_yaml_from_git(raw_manifest_url,claim_name)\n",
    "    group = 'kubeflow.org'\n",
    "    version = 'v1'\n",
    "    plural = 'xgboostjobs'\n",
    "    # Get namespace\n",
    "    namespace = get_namespace()\n",
    "    apply_custom_resource_conditionally(api_instance, group, version, namespace, plural, crd_manifest, timeout_period,max_timeout,worker_replicas,master_replicas)\n"
   ]
  },
  {
   "cell_type": "code",
   "execution_count": 24,
   "id": "934408b7-0a66-4b96-b27b-e5162b2f3116",
   "metadata": {
    "tags": []
   },
   "outputs": [],
   "source": [
    "@dsl.pipeline\n",
    "def xgboost_train_pipeline(claim: str, manifest_url:str,timeout: float, max_time: float, workers: float,masters: float) -> None:\n",
    "    task1 = xgboost_train(claim_name=claim, raw_manifest_url=manifest_url,timeout_period=timeout,max_timeout=max_time,worker_replicas=workers,master_replicas=masters)\n",
    "    "
   ]
  },
  {
   "cell_type": "code",
   "execution_count": 25,
   "id": "126642e3-113d-4edc-9da5-9e372efedb0c",
   "metadata": {},
   "outputs": [],
   "source": [
    "compiler.Compiler().compile(xgboost_train_pipeline, 'pipeline.yml')"
   ]
  },
  {
   "cell_type": "code",
   "execution_count": 26,
   "id": "2baad391-90b3-4dfb-999b-be9d58aed50c",
   "metadata": {
    "tags": []
   },
   "outputs": [
    {
     "data": {
      "text/html": [
       "<a href=\"/pipeline/#/experiments/details/7671697d-de7a-47a8-975a-27b0b89575ee\" target=\"_blank\" >Experiment details</a>."
      ],
      "text/plain": [
       "<IPython.core.display.HTML object>"
      ]
     },
     "metadata": {},
     "output_type": "display_data"
    },
    {
     "data": {
      "text/html": [
       "<a href=\"/pipeline/#/runs/details/6f411ade-528c-4115-9750-98d75ae069d0\" target=\"_blank\" >Run details</a>."
      ],
      "text/plain": [
       "<IPython.core.display.HTML object>"
      ]
     },
     "metadata": {},
     "output_type": "display_data"
    }
   ],
   "source": [
    "run = client.create_run_from_pipeline_package(\n",
    "    'pipeline.yml',\n",
    "    arguments={\n",
    "        'claim':\"xgboostlocal\",\n",
    "        'manifest_url':\"https://raw.githubusercontent.com/chasecadet/kubeflow_course/main/kubeflow_integrations/volcano_iris_train.yml\",\n",
    "        'timeout':10.0,\n",
    "        'max_time':10.0,\n",
    "        'workers':3,\n",
    "        'masters':1\n",
    "    },\n",
    ")"
   ]
  },
  {
   "cell_type": "code",
   "execution_count": null,
   "id": "82e7ad85-3422-4764-b0b7-37e6b5eed227",
   "metadata": {},
   "outputs": [],
   "source": []
  }
 ],
 "metadata": {
  "kernelspec": {
   "display_name": "Python 3 (ipykernel)",
   "language": "python",
   "name": "python3"
  },
  "language_info": {
   "codemirror_mode": {
    "name": "ipython",
    "version": 3
   },
   "file_extension": ".py",
   "mimetype": "text/x-python",
   "name": "python",
   "nbconvert_exporter": "python",
   "pygments_lexer": "ipython3",
   "version": "3.11.6"
  }
 },
 "nbformat": 4,
 "nbformat_minor": 5
}
