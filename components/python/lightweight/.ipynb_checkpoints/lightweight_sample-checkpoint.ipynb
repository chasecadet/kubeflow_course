{
 "cells": [
  {
   "cell_type": "code",
   "execution_count": 1,
   "id": "7ed49f81-6688-4bc0-8843-a1569383cd2c",
   "metadata": {
    "tags": []
   },
   "outputs": [
    {
     "name": "stderr",
     "output_type": "stream",
     "text": [
      "/opt/conda/lib/python3.11/site-packages/kfp/dsl/component_decorator.py:119: FutureWarning: Python 3.7 has reached end-of-life. The default base_image used by the @dsl.component decorator will switch from 'python:3.7' to 'python:3.8' on April 23, 2024. To ensure your existing components work with versions of the KFP SDK released after that date, you should provide an explicit base_image argument and ensure your component works as intended on Python 3.8.\n",
      "  return component_factory.create_component_from_func(\n"
     ]
    }
   ],
   "source": [
    "from kfp import dsl\n",
    "from kfp import compiler\n",
    "from kfp.client import Client\n",
    "@dsl.component\n",
    "def self_contained_example(radius: int) -> int:\n",
    "    import math\n",
    "    area = math.pi * radius ** 2\n",
    "    return area\n",
    "\n",
    "\n",
    "@dsl.pipeline\n",
    "def sample_pipeline(radius: int) -> int:\n",
    "    sample_task = self_contained_example(radius=4)\n",
    "    return sample_task.output"
   ]
  },
  {
   "cell_type": "code",
   "execution_count": 2,
   "id": "8a8832a0-f895-4b2c-ba9a-872e888bab29",
   "metadata": {
    "tags": []
   },
   "outputs": [],
   "source": [
    "compiler.Compiler().compile(sample_pipeline, 'pipeline.yaml')"
   ]
  },
  {
   "cell_type": "code",
   "execution_count": null,
   "id": "64bb3557-6605-472c-9fd2-687546796e69",
   "metadata": {},
   "outputs": [],
   "source": [
    "client = Client(host='<MY-KFP-ENDPOINT>')\n",
    "run = client.create_run_from_pipeline_package(\n",
    "    'pipeline.yaml',\n",
    "    arguments={\n",
    "        'radius': 2,\n",
    "    },\n",
    ")"
   ]
  }
 ],
 "metadata": {
  "kernelspec": {
   "display_name": "Python 3 (ipykernel)",
   "language": "python",
   "name": "python3"
  },
  "language_info": {
   "codemirror_mode": {
    "name": "ipython",
    "version": 3
   },
   "file_extension": ".py",
   "mimetype": "text/x-python",
   "name": "python",
   "nbconvert_exporter": "python",
   "pygments_lexer": "ipython3",
   "version": "3.11.6"
  }
 },
 "nbformat": 4,
 "nbformat_minor": 5
}
