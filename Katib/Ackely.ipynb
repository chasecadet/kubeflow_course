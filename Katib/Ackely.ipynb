{
 "cells": [
  {
   "cell_type": "code",
   "execution_count": null,
   "id": "2f7d5835-58ef-4d46-8b46-6e0a153557db",
   "metadata": {
    "tags": []
   },
   "outputs": [],
   "source": [
    "def objective(parameters):\n",
    "    import math\n",
    "    import time\n",
    "    time.sleep(5)\n",
    "   \n",
    "    # Convert parameters from string to float.\n",
    "    x = float(parameters[\"x\"])\n",
    "    y = float(parameters[\"y\"])\n",
    "    # Define the Ackley function.\n",
    "    result = (-20 * math.exp(-0.2 * math.sqrt(0.5 * (x**2 + y**2))) -\n",
    "               math.exp(0.5 * (math.cos(2 * math.pi * x) + math.cos(2 * math.pi * y))) + math.e + 20)\n",
    "    print(f\"result={result}\")\n",
    "# Step 2. Create HyperParameter search space.\n",
    "parameters = {\n",
    "    \"x\": katib.search.double(min=-5, max=5),\n",
    "    \"y\": katib.search.double(min=-5, max=5)\n",
    "}\n",
    "\n",
    "# Step 3. Create Katib Experiment with 20 Trials.\n",
    "katib_client = katib.KatibClient()\n",
    "name = \"ackley-experiment\"\n",
    "katib_client.tune(\n",
    "    name=name,\n",
    "    objective=objective,\n",
    "    parameters=parameters,\n",
    "    objective_type=\"minimize\",\n",
    "    objective_metric_name=\"result\",\n",
    "    max_trial_count=15,\n",
    "    resources_per_trial={\"cpu\": \"1\"},\n",
    "    \n",
    ")\n",
    "\n",
    "# Step 4. Get the best HyperParameters.\n",
    "print(katib_client.get_optimal_hyperparameters(name))\n"
   ]
  },
  {
   "cell_type": "code",
   "execution_count": null,
   "id": "565f3f5f-6aa2-4bc6-b4c4-967df1e19732",
   "metadata": {},
   "outputs": [],
   "source": [
    "print(objective)"
   ]
  },
  {
   "cell_type": "code",
   "execution_count": null,
   "id": "8eed5591-1348-4452-af13-40bada65bfda",
   "metadata": {},
   "outputs": [],
   "source": []
  }
 ],
 "metadata": {
  "kernelspec": {
   "display_name": "Python 3 (ipykernel)",
   "language": "python",
   "name": "python3"
  },
  "language_info": {
   "codemirror_mode": {
    "name": "ipython",
    "version": 3
   },
   "file_extension": ".py",
   "mimetype": "text/x-python",
   "name": "python",
   "nbconvert_exporter": "python",
   "pygments_lexer": "ipython3",
   "version": "3.11.6"
  }
 },
 "nbformat": 4,
 "nbformat_minor": 5
}
