{
 "cells": [
  {
   "cell_type": "markdown",
   "id": "d29a39d6-e72e-4986-85ba-18a35eac837f",
   "metadata": {
    "tags": []
   },
   "source": [
    "<p align=\"center\">\n",
    "  <img src=\"techno_volcano.png\" />\n",
    "</p>\n"
   ]
  },
  {
   "cell_type": "code",
   "execution_count": 19,
   "id": "44527695-635a-4b88-af90-eaccd73514c7",
   "metadata": {
    "tags": []
   },
   "outputs": [
    {
     "ename": "SyntaxError",
     "evalue": "unmatched ')' (452427366.py, line 50)",
     "output_type": "error",
     "traceback": [
      "\u001b[0;36m  Cell \u001b[0;32mIn[19], line 50\u001b[0;36m\u001b[0m\n\u001b[0;31m    print(\"An exception occurred: %s\" % e))\u001b[0m\n\u001b[0m                                          ^\u001b[0m\n\u001b[0;31mSyntaxError\u001b[0m\u001b[0;31m:\u001b[0m unmatched ')'\n"
     ]
    }
   ],
   "source": [
    "from kubernetes import client, config, utils\n",
    "import yaml\n",
    "import requests\n",
    "\n",
    "def get_namespace():\n",
    "    # Path to the namespace file inside a pod\n",
    "    namespace_path = '/var/run/secrets/kubernetes.io/serviceaccount/namespace'\n",
    "    with open(namespace_path, 'r') as file:\n",
    "        return file.read().strip()\n",
    "\n",
    "def get_yaml_from_git(repo_url):\n",
    "    # Make an HTTP GET request to the raw content URL of the YAML file in the Git repository\n",
    "    response = requests.get(repo_url)\n",
    "    if response.status_code == 200:\n",
    "        return yaml.safe_load(response.text)\n",
    "    else:\n",
    "        raise Exception(f\"Failed to get YAML file from {repo_url}. Status code: {response.status_code}\")\n",
    "\n",
    "# Load in-cluster Kubernetes configuration\n",
    "config.load_incluster_config()\n",
    "\n",
    "# Determine the namespace dynamically\n",
    "namespace = get_namespace()\n",
    "\n",
    "# URL to the raw YAML file in a Git repository\n",
    "yaml_file_url = 'https://raw.githubusercontent.com/chasecadet/kubeflow_course/kubeflow_integrations/volcano_iris_train.yml'\n",
    "\n",
    "# Get the XGBoostJob definition from the YAML file in the Git repository\n",
    "crd_manifest = get_yaml_from_git(yaml_file_url)\n",
    "\n",
    "# Define the details of the custom resource\n",
    "group = 'kubeflow.org'  # API group of the XGBoostJob\n",
    "version = 'v1'  # API version\n",
    "plural = 'xgboostjobs'  # Plural form of the XGBoostJob custom resource definition (CRD)\n",
    "\n",
    "# Get the API instance for custom objects\n",
    "api_instance = client.CustomObjectsApi()\n",
    "\n",
    "# Create the XGBoostJob\n",
    "try:\n",
    "    api_response = api_instance.create_namespaced_custom_object(\n",
    "        group=group,\n",
    "        version=version,\n",
    "        namespace=namespace,\n",
    "        plural=plural,\n",
    "        body=crd_manifest,\n",
    "    )\n",
    "    print(\"Custom resource created. Status: %s\" % api_response)\n",
    "except client.ApiException as e:\n",
    "    print(\"An exception occurred: %s\" % e)\n"
   ]
  },
  {
   "cell_type": "code",
   "execution_count": null,
   "id": "d5f5d3cf-d90f-4039-92dc-b99a0d33eea5",
   "metadata": {},
   "outputs": [],
   "source": []
  }
 ],
 "metadata": {
  "kernelspec": {
   "display_name": "Python 3 (ipykernel)",
   "language": "python",
   "name": "python3"
  },
  "language_info": {
   "codemirror_mode": {
    "name": "ipython",
    "version": 3
   },
   "file_extension": ".py",
   "mimetype": "text/x-python",
   "name": "python",
   "nbconvert_exporter": "python",
   "pygments_lexer": "ipython3",
   "version": "3.11.6"
  }
 },
 "nbformat": 4,
 "nbformat_minor": 5
}
