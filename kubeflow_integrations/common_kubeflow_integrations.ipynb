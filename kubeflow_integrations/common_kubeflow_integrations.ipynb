{
 "cells": [
  {
   "cell_type": "markdown",
   "id": "d29a39d6-e72e-4986-85ba-18a35eac837f",
   "metadata": {
    "tags": []
   },
   "source": [
    "<p align=\"center\">\n",
    "  <img src=\"techno_volcano.png\" />\n",
    "</p>\n"
   ]
  },
  {
   "cell_type": "code",
   "execution_count": null,
   "id": "d5f5d3cf-d90f-4039-92dc-b99a0d33eea5",
   "metadata": {},
   "outputs": [],
   "source": [
    "import sys\n",
    "from kubernetes import client, config\n",
    "import yaml\n",
    "import requests\n",
    "import uuid\n",
    "from datetime import datetime\n",
    "\n",
    "def generate_unique_job_name(base_name):\n",
    "    # Example of using a UUID\n",
    "    unique_id = uuid.uuid4().hex[:3]\n",
    "    # Example of using a timestamp\n",
    "    timestamp = datetime.now().strftime(\"%Y%m%d%H%M\")\n",
    "    # Combine the base name with a unique identifier\n",
    "    unique_job_name = f\"{base_name}-{unique_id}-{timestamp}\"\n",
    "    return unique_job_name\n",
    "\n",
    "\n",
    "def get_yaml_from_git(repo_url,pvc_name):\n",
    "    response = requests.get(repo_url)\n",
    "    if response.status_code == 200:\n",
    "        yaml_content = yaml.safe_load(response.text)\n",
    "        \n",
    "        # Assuming the structure of the YAML is consistent with your example,\n",
    "        # update PVC names for both Master and Worker\n",
    "        for role in ['Master', 'Worker']:\n",
    "            if role in yaml_content['spec']['xgbReplicaSpecs']:\n",
    "                for volume in yaml_content['spec']['xgbReplicaSpecs'][role]['template']['spec']['volumes']:\n",
    "                    if volume['name'] == 'task-pv-storage':\n",
    "                        volume['persistentVolumeClaim']['claimName'] = pvc_name    \n",
    "        return yaml_content\n",
    "    else:\n",
    "        raise Exception(f\"Failed to get YAML file from {repo_url}. Status code: {response.status_code}\")\n",
    "        sys.exit(1)\n",
    "\n",
    "def get_namespace():\n",
    "    # Path to the namespace file inside a pod\n",
    "    namespace_path = '/var/run/secrets/kubernetes.io/serviceaccount/namespace'\n",
    "    with open(namespace_path, 'r') as file:\n",
    "        return file.read().strip()\n",
    "\n",
    "def apply_custom_resource_conditionally(api_instance, group, version, namespace, plural, body):\n",
    "    body['metadata']['name'] = generate_unique_job_name( body['metadata']['name']) \n",
    "    print( body['metadata']['name'])\n",
    "    try:\n",
    "        api_response = api_instance.create_namespaced_custom_object(\n",
    "            group=group,\n",
    "            version=version,\n",
    "            namespace=namespace,\n",
    "            plural=plural,\n",
    "            body=body\n",
    "        )\n",
    "        print(\"Custom resource applied. Status: %s\" % api_response)\n",
    "    except client.exceptions.ApiException as e:\n",
    "        print(f\"Failed to apply {name}: {e}\")\n",
    "        sys.exit(1)\n",
    "\n",
    "# Example usage\n",
    "if __name__ == \"__main__\":\n",
    "    config.load_incluster_config()\n",
    "    api_instance = client.CustomObjectsApi()\n",
    "    yaml_file_url = 'https://raw.githubusercontent.com/chasecadet/kubeflow_course/main/kubeflow_integrations/volcano_iris_train.yml'\n",
    "    crd_manifest = get_yaml_from_git(yaml_file_url,\"xgboostlocal\")\n",
    "    group = 'kubeflow.org'\n",
    "    version = 'v1'\n",
    "    plural = 'xgboostjobs'\n",
    "    # Get namespace\n",
    "    namespace = get_namespace()\n",
    "    apply_custom_resource_conditionally(api_instance, group, version, namespace, plural, crd_manifest)\n",
    "\n"
   ]
  },
  {
   "cell_type": "code",
   "execution_count": null,
   "id": "126642e3-113d-4edc-9da5-9e372efedb0c",
   "metadata": {},
   "outputs": [],
   "source": []
  }
 ],
 "metadata": {
  "kernelspec": {
   "display_name": "Python 3 (ipykernel)",
   "language": "python",
   "name": "python3"
  },
  "language_info": {
   "codemirror_mode": {
    "name": "ipython",
    "version": 3
   },
   "file_extension": ".py",
   "mimetype": "text/x-python",
   "name": "python",
   "nbconvert_exporter": "python",
   "pygments_lexer": "ipython3",
   "version": "3.11.6"
  }
 },
 "nbformat": 4,
 "nbformat_minor": 5
}
