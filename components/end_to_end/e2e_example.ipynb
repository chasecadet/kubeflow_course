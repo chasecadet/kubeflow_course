{
 "cells": [
  {
   "cell_type": "markdown",
   "id": "de4b1578-0785-4101-916d-9be6f608a0a7",
   "metadata": {},
   "source": [
    "<p align=\"center\">\n",
    "  <img src=\"unicorn_bill.png\" />\n",
    "</p>\n"
   ]
  },
  {
   "cell_type": "code",
   "execution_count": null,
   "id": "e9f2edbb-9075-468e-8337-9726a23004bf",
   "metadata": {},
   "outputs": [],
   "source": []
  },
  {
   "cell_type": "code",
   "execution_count": null,
   "id": "802abc49-3291-4017-924a-6b3c1ae3e7c0",
   "metadata": {},
   "outputs": [],
   "source": [
    "import kfp\n",
    "from kfp import dsl\n",
    "from kfp import compiler\n",
    "from kfp.client import Client\n",
    "\n",
    "\n",
    "client = kfp.Client()\n",
    "print(client.list_experiments())"
   ]
  },
  {
   "cell_type": "code",
   "execution_count": null,
   "id": "43029457-da66-4f3e-a754-bcf0ed953ed6",
   "metadata": {},
   "outputs": [],
   "source": [
    "@dsl.component(target_image='chasechristensen/material_cost_component:v1')\n",
    "def calculate_material_cost(radius: float, cost_per_square_unit: float) -> float:\n",
    "    \"\"\"Calculates the cost of materials needed to cover a circle's area.\"\"\"\n",
    "    area = calculate_area(radius)\n",
    "    total_cost = area * cost_per_square_unit\n",
    "    print(f\"The total cost to cover the area of a circle with radius {radius} is: ${total_cost:.2f}\")\n",
    "    return total_cost"
   ]
  },
  {
   "cell_type": "code",
   "execution_count": null,
   "id": "a156e366-4212-4c05-9161-0ded03935ac8",
   "metadata": {},
   "outputs": [],
   "source": [
    "@dsl.component\n",
    "def get_state_tax_rate(state: str) -> float:\n",
    "    \"\"\"Returns the tax rate for a given state or raises an error if the state is invalid.\"\"\"\n",
    "    # Dictionary of state tax rates (simplified and fictional rates for illustration)\n",
    "    state_tax_rates = {\n",
    "        \"AL\": 0.04, \"AK\": 0.0, \"AZ\": 0.056, \"AR\": 0.065, \"CA\": 0.075,\n",
    "        \"CO\": 0.029, \"CT\": 0.0635, \"DE\": 0.0, \"FL\": 0.06, \"GA\": 0.04,\n",
    "        \"HI\": 0.04, \"ID\": 0.06, \"IL\": 0.0625, \"IN\": 0.07, \"IA\": 0.06,\n",
    "        \"KS\": 0.065, \"KY\": 0.06, \"LA\": 0.0445, \"ME\": 0.055, \"MD\": 0.06,\n",
    "        \"MA\": 0.0625, \"MI\": 0.06, \"MN\": 0.06875, \"MS\": 0.07, \"MO\": 0.04225,\n",
    "        \"MT\": 0.0, \"NE\": 0.055, \"NV\": 0.0685, \"NH\": 0.0, \"NJ\": 0.06625,\n",
    "        \"NM\": 0.05125, \"NY\": 0.04, \"NC\": 0.0475, \"ND\": 0.05, \"OH\": 0.0575,\n",
    "        \"OK\": 0.045, \"OR\": 0.0, \"PA\": 0.06, \"RI\": 0.07, \"SC\": 0.06,\n",
    "        \"SD\": 0.045, \"TN\": 0.07, \"TX\": 0.0625, \"UT\": 0.0485, \"VT\": 0.06,\n",
    "        \"VA\": 0.053, \"WA\": 0.065, \"WV\": 0.06, \"WI\": 0.05, \"WY\": 0.04\n",
    "    }\n",
    "\n",
    "    # Check if the state is valid and return the tax rate\n",
    "    if state.upper() in state_tax_rates:\n",
    "        return state_tax_rates[state.upper()]\n",
    "    else:\n",
    "        # If the state is not valid, raise an error and exit\n",
    "        raise ValueError(f\"Invalid state: {state}. Please provide a valid US state abbreviation.\")\n"
   ]
  },
  {
   "cell_type": "code",
   "execution_count": null,
   "id": "aafb92a6-13d2-4310-b65a-f362dba8fd6e",
   "metadata": {},
   "outputs": [],
   "source": [
    "@dsl.pipeline\n",
    "def unicorn_carousel_construction_quote(carou_radius: float, mat_costs: float,state: str) -> float:\n",
    "    task1 = calculate_material_cost(radius=x, cost_per_square_unit=y)\n",
    "    return task1.output\n"
   ]
  }
 ],
 "metadata": {
  "kernelspec": {
   "display_name": "Python 3 (ipykernel)",
   "language": "python",
   "name": "python3"
  },
  "language_info": {
   "codemirror_mode": {
    "name": "ipython",
    "version": 3
   },
   "file_extension": ".py",
   "mimetype": "text/x-python",
   "name": "python",
   "nbconvert_exporter": "python",
   "pygments_lexer": "ipython3",
   "version": "3.11.6"
  }
 },
 "nbformat": 4,
 "nbformat_minor": 5
}
