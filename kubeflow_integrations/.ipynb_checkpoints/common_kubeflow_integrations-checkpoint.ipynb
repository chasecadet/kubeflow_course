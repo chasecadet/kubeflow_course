{
 "cells": [
  {
   "cell_type": "markdown",
   "id": "d29a39d6-e72e-4986-85ba-18a35eac837f",
   "metadata": {
    "tags": []
   },
   "source": [
    "<p align=\"center\">\n",
    "  <img src=\"techno_volcano.png\" />\n",
    "</p>\n"
   ]
  },
  {
   "cell_type": "markdown",
   "id": "0c588335-36c8-4d0e-9880-adca51dfb670",
   "metadata": {},
   "source": [
    "# Introduction\n",
    "In this notebook we will demonstrate using concepts from the entire course to provision a volume, train a model using the training operator and Volcano, serve the model with Kserve, and test the model once we have served it. Run the notebook from start to finish to see the pipeline. Once your pipeline is done, you can test the model.\n"
   ]
  },
  {
   "cell_type": "code",
   "execution_count": 184,
   "id": "073a9ecd-b357-40ef-9448-ab1111556c25",
   "metadata": {
    "tags": []
   },
   "outputs": [
    {
     "name": "stdout",
     "output_type": "stream",
     "text": [
      "{'experiments': [{'created_at': datetime.datetime(2024, 2, 17, 17, 59, 4, tzinfo=tzlocal()),\n",
      "                  'description': 'my first Kubeflow experiment! ',\n",
      "                  'display_name': 'hello_kubeflow',\n",
      "                  'experiment_id': 'c9e56f11-3433-4cef-a1a4-d3fb20c9b26e',\n",
      "                  'namespace': 'christensenc3526',\n",
      "                  'storage_state': 'AVAILABLE'},\n",
      "                 {'created_at': datetime.datetime(2024, 2, 18, 16, 5, 37, tzinfo=tzlocal()),\n",
      "                  'description': None,\n",
      "                  'display_name': 'new_experiment',\n",
      "                  'experiment_id': 'bc7afbde-6c81-41e5-b7ef-ef81545c36e7',\n",
      "                  'namespace': 'christensenc3526',\n",
      "                  'storage_state': 'AVAILABLE'},\n",
      "                 {'created_at': datetime.datetime(2024, 2, 26, 4, 33, 34, tzinfo=tzlocal()),\n",
      "                  'description': None,\n",
      "                  'display_name': 'Default',\n",
      "                  'experiment_id': '7671697d-de7a-47a8-975a-27b0b89575ee',\n",
      "                  'namespace': 'christensenc3526',\n",
      "                  'storage_state': 'AVAILABLE'}],\n",
      " 'next_page_token': None,\n",
      " 'total_size': 3}\n"
     ]
    }
   ],
   "source": [
    "import kfp\n",
    "from kfp import dsl\n",
    "from kfp import compiler\n",
    "from kfp.client import Client\n",
    "\n",
    "\n",
    "client = kfp.Client()\n",
    "print(client.list_experiments())"
   ]
  },
  {
   "cell_type": "code",
   "execution_count": 185,
   "id": "553e7df7-7451-4333-8bca-572efcb47efe",
   "metadata": {
    "tags": []
   },
   "outputs": [],
   "source": [
    "@dsl.component(target_image='chasechristensen/volume_component:v2')\n",
    "def create_volume(pvc_name: str,timeout_period: float,max_timeout: float,storage_size: float)-> str:\n",
    "    # Define the PVC specifications\n",
    "    config.load_incluster_config()\n",
    "    v1 = client.CoreV1Api()\n",
    "    pvc_name=generate_unique_volume_name(pvc_name)\n",
    "    pvc_spec = client.V1PersistentVolumeClaim(\n",
    "        metadata=client.V1ObjectMeta(name=pvc_name),\n",
    "        spec=client.V1PersistentVolumeClaimSpec(\n",
    "            access_modes=[\"ReadWriteOnce\"],  # Adjust access modes as needed\n",
    "            resources=client.V1ResourceRequirements(\n",
    "                requests={\"storage\": str(storage_size)+\"Gi\"}\n",
    "            ),\n",
    "            storage_class_name=\"standard\",\n",
    "        ),\n",
    "    )\n",
    "    print(pvc_spec)\n",
    "    namespace=get_namespace()\n",
    "    created_pvc = v1.create_namespaced_persistent_volume_claim(namespace=namespace, body=pvc_spec)\n",
    "    print(f\"PVC {created_pvc.metadata.name} created in namespace {namespace}\")\n",
    "    monitor_pvc_status(api_instance=v1, namespace=namespace, pvc_name=pvc_name, timeout_period=timeout_period, max_timeout=max_timeout)\n",
    "    return pvc_name"
   ]
  },
  {
   "cell_type": "code",
   "execution_count": 186,
   "id": "f2656a62-27fe-45f8-9b9d-2e800941a32d",
   "metadata": {
    "tags": []
   },
   "outputs": [],
   "source": [
    "@dsl.component(target_image='chasechristensen/xgboost_train_component:v2')\n",
    "def xgboost_train(claim_name: str, raw_manifest_url:str, timeout_period: float,max_timeout: float, worker_replicas: float,master_replicas: float) -> None:\n",
    "    config.load_incluster_config()\n",
    "    api_instance = client.CustomObjectsApi()\n",
    "    crd_manifest = get_yaml_from_git(raw_manifest_url,claim_name)\n",
    "    group = 'kubeflow.org'\n",
    "    version = 'v1'\n",
    "    plural = 'xgboostjobs'\n",
    "    # Get namespace\n",
    "    namespace = get_namespace()\n",
    "    apply_custom_resource_conditionally(api_instance, group, version, namespace, plural, crd_manifest, timeout_period,max_timeout,worker_replicas,master_replicas)\n"
   ]
  },
  {
   "cell_type": "code",
   "execution_count": 187,
   "id": "4ed014b4-f847-4fe3-b68d-a5503df01ea8",
   "metadata": {},
   "outputs": [],
   "source": [
    "@dsl.component(target_image='chasechristensen/xgboost_serve_component:v3')\n",
    "def create_inference_service(timeout_period: float,max_timeout: float,name: str,storageUri: str,raw_manifest_url: str)-> None:\n",
    "    config.load_incluster_config()\n",
    "    api_instance = client.CustomObjectsApi()\n",
    "    body = get_yaml_from_git(raw_manifest_url)\n",
    "    group = 'serving.kserve.io'\n",
    "    version = 'v1beta1'\n",
    "    plural = 'inferenceservices'\n",
    "    body['metadata']['name'] = name\n",
    "    print( body['metadata']['name'])\n",
    "    body['spec']['predictor']['xgboost']['storageUri']=\"pvc://\"+storageUri\n",
    "    namespace=get_namespace()\n",
    "    try:\n",
    "        api_response = api_instance.create_namespaced_custom_object(group=group, version=version, namespace=namespace, plural=plural, body=body)\n",
    "        print(\"Custom resource applied. Status: %s\" % api_response) \n",
    "        print(f\"Monitoring status...\")\n",
    "        monitor_server_status(api_instance, group, version, namespace, plural, body['metadata']['name'],timeout_period,max_timeout)      \n",
    "    except client.exceptions.ApiException as e:\n",
    "        print(f\"Failed to apply {name}: {e}\")\n",
    "        sys.exit(1)"
   ]
  },
  {
   "cell_type": "code",
   "execution_count": 188,
   "id": "934408b7-0a66-4b96-b27b-e5162b2f3116",
   "metadata": {
    "tags": []
   },
   "outputs": [],
   "source": [
    "@dsl.pipeline\n",
    "def xgboost_train_pipeline(claim: str, train_manifest_url:str,timeout: float, max_time: float, workers: float,masters: float,storage: float, serve_manifest_url: str, model_name: str) -> None:\n",
    "    task1=create_volume(pvc_name=claim,timeout_period=timeout,max_timeout=max_time,storage_size=storage)\n",
    "    task2 = xgboost_train(claim_name=task1.output, raw_manifest_url=train_manifest_url,timeout_period=timeout,max_timeout=max_time,worker_replicas=workers,master_replicas=masters)\n",
    "    task3 = create_inference_service(timeout_period=timeout,max_timeout=max_time,name=model_name,storageUri=task1.output,raw_manifest_url=serve_manifest_url).after(task2)\n",
    "    "
   ]
  },
  {
   "cell_type": "code",
   "execution_count": 180,
   "id": "126642e3-113d-4edc-9da5-9e372efedb0c",
   "metadata": {},
   "outputs": [],
   "source": [
    "compiler.Compiler().compile(xgboost_train_pipeline, 'pipeline.yml')"
   ]
  },
  {
   "cell_type": "code",
   "execution_count": 181,
   "id": "2baad391-90b3-4dfb-999b-be9d58aed50c",
   "metadata": {
    "tags": []
   },
   "outputs": [
    {
     "data": {
      "text/html": [
       "<a href=\"/pipeline/#/experiments/details/7671697d-de7a-47a8-975a-27b0b89575ee\" target=\"_blank\" >Experiment details</a>."
      ],
      "text/plain": [
       "<IPython.core.display.HTML object>"
      ]
     },
     "metadata": {},
     "output_type": "display_data"
    },
    {
     "data": {
      "text/html": [
       "<a href=\"/pipeline/#/runs/details/fbf8ba42-68c0-4407-8a86-6ba9838b7412\" target=\"_blank\" >Run details</a>."
      ],
      "text/plain": [
       "<IPython.core.display.HTML object>"
      ]
     },
     "metadata": {},
     "output_type": "display_data"
    }
   ],
   "source": [
    "client = kfp.Client()\n",
    "run = client.create_run_from_pipeline_package(\n",
    "    'pipeline.yml',\n",
    "    arguments={\n",
    "        'claim':\"iris\",\n",
    "        'train_manifest_url':\"https://raw.githubusercontent.com/chasecadet/kubeflow_course/main/kubeflow_integrations/volcano_iris_train.yml\",\n",
    "        'timeout':15.0,\n",
    "        'max_time':40.0,\n",
    "        'workers':3,\n",
    "        'masters':1,\n",
    "        'storage':2,\n",
    "        'serve_manifest_url':\"https://raw.githubusercontent.com/chasecadet/kubeflow_course/main/kubeflow_integrations/kserve_pvc.yml\",\n",
    "        'model_name': \"iris\",\n",
    "    },\n",
    ")"
   ]
  },
  {
   "cell_type": "code",
   "execution_count": 182,
   "id": "29fd9688-22e1-466e-9eb6-8e0cea5d6724",
   "metadata": {
    "tags": []
   },
   "outputs": [
    {
     "name": "stdout",
     "output_type": "stream",
     "text": [
      "{\"model_name\":\"iris\",\"id\":\"ca4b3805-3fee-495b-a0f6-4abff83232c9\",\"parameters\":{},\"outputs\":[{\"name\":\"predict\",\"shape\":[1,3],\"datatype\":\"FP32\",\"data\":[0.002622069325298071,0.9911085367202759,0.006269427947700024]}]}\n"
     ]
    }
   ],
   "source": [
    "inference_input = {\n",
    "  \"inputs\": [\n",
    "    {\n",
    "      \"name\": \"feature_name_or_tensor\",\n",
    "      \"shape\": [1, 4],\n",
    "      \"datatype\": \"FP32\",\n",
    "      \"data\": [6.8, 2.8, 4.8, 1.4]\n",
    "    }\n",
    "  ]\n",
    "}\n",
    "\n",
    "isvc_url=\"http://iris-predictor.christensenc3526.svc.cluster.local/v2/models/iris/infer\"\n",
    "response = requests.post(isvc_url, json=inference_input)\n",
    "print(response.text)\n"
   ]
  },
  {
   "cell_type": "code",
   "execution_count": null,
   "id": "82e7ad85-3422-4764-b0b7-37e6b5eed227",
   "metadata": {},
   "outputs": [],
   "source": [
    "!curl http://iris-predictor.christensenc3526.svc.cluster.local"
   ]
  },
  {
   "cell_type": "code",
   "execution_count": null,
   "id": "b4596740-2722-4b1c-96e4-d89962cc788c",
   "metadata": {},
   "outputs": [],
   "source": []
  }
 ],
 "metadata": {
  "kernelspec": {
   "display_name": "Python 3 (ipykernel)",
   "language": "python",
   "name": "python3"
  },
  "language_info": {
   "codemirror_mode": {
    "name": "ipython",
    "version": 3
   },
   "file_extension": ".py",
   "mimetype": "text/x-python",
   "name": "python",
   "nbconvert_exporter": "python",
   "pygments_lexer": "ipython3",
   "version": "3.11.6"
  }
 },
 "nbformat": 4,
 "nbformat_minor": 5
}
