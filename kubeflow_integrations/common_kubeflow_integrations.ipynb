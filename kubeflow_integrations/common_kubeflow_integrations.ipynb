{
 "cells": [
  {
   "cell_type": "markdown",
   "id": "d29a39d6-e72e-4986-85ba-18a35eac837f",
   "metadata": {
    "tags": []
   },
   "source": [
    "<p align=\"center\">\n",
    "  <img src=\"techno_volcano.png\" />\n",
    "</p>\n"
   ]
  },
  {
   "cell_type": "markdown",
   "id": "0c588335-36c8-4d0e-9880-adca51dfb670",
   "metadata": {},
   "source": [
    "# Introduction\n",
    "In this notebook we will demonstrate using concepts from the entire course to provision a volume, train a model using the training operator and Volcano, serve the model with Kserve, and test the model once we have served it. Run the notebook from start to finish to see the pipeline. Once your pipeline is done, you can test the model.\n"
   ]
  },
  {
   "cell_type": "code",
   "execution_count": null,
   "id": "073a9ecd-b357-40ef-9448-ab1111556c25",
   "metadata": {
    "tags": []
   },
   "outputs": [],
   "source": [
    "import kfp\n",
    "from kfp import dsl\n",
    "from kfp import compiler\n",
    "from kfp.client import Client\n",
    "\n",
    "\n",
    "client = kfp.Client()\n",
    "print(client.list_experiments())"
   ]
  },
  {
   "cell_type": "code",
   "execution_count": null,
   "id": "553e7df7-7451-4333-8bca-572efcb47efe",
   "metadata": {
    "tags": []
   },
   "outputs": [],
   "source": [
    "@dsl.component(target_image='chasechristensen/volume_component:v2')\n",
    "def create_volume(pvc_name: str,timeout_period: float,max_timeout: float,storage_size: float)-> str:\n",
    "    # Define the PVC specifications\n",
    "    config.load_incluster_config()\n",
    "    v1 = client.CoreV1Api()\n",
    "    pvc_name=generate_unique_volume_name(pvc_name)\n",
    "    pvc_spec = client.V1PersistentVolumeClaim(\n",
    "        metadata=client.V1ObjectMeta(name=pvc_name),\n",
    "        spec=client.V1PersistentVolumeClaimSpec(\n",
    "            access_modes=[\"ReadWriteOnce\"],  # Adjust access modes as needed\n",
    "            resources=client.V1ResourceRequirements(\n",
    "                requests={\"storage\": str(storage_size)+\"Gi\"}\n",
    "            ),\n",
    "            storage_class_name=\"standard\",\n",
    "        ),\n",
    "    )\n",
    "    print(pvc_spec)\n",
    "    namespace=get_namespace()\n",
    "    created_pvc = v1.create_namespaced_persistent_volume_claim(namespace=namespace, body=pvc_spec)\n",
    "    print(f\"PVC {created_pvc.metadata.name} created in namespace {namespace}\")\n",
    "    monitor_pvc_status(api_instance=v1, namespace=namespace, pvc_name=pvc_name, timeout_period=timeout_period, max_timeout=max_timeout)\n",
    "    return pvc_name"
   ]
  },
  {
   "cell_type": "code",
   "execution_count": null,
   "id": "f2656a62-27fe-45f8-9b9d-2e800941a32d",
   "metadata": {
    "tags": []
   },
   "outputs": [],
   "source": [
    "@dsl.component(target_image='chasechristensen/xgboost_train_component:v2')\n",
    "def xgboost_train(claim_name: str, raw_manifest_url:str, timeout_period: float,max_timeout: float, worker_replicas: float,master_replicas: float) -> None:\n",
    "    config.load_incluster_config()\n",
    "    api_instance = client.CustomObjectsApi()\n",
    "    crd_manifest = get_yaml_from_git(raw_manifest_url,claim_name)\n",
    "    group = 'kubeflow.org'\n",
    "    version = 'v1'\n",
    "    plural = 'xgboostjobs'\n",
    "    # Get namespace\n",
    "    namespace = get_namespace()\n",
    "    apply_custom_resource_conditionally(api_instance, group, version, namespace, plural, crd_manifest, timeout_period,max_timeout,worker_replicas,master_replicas)\n"
   ]
  },
  {
   "cell_type": "code",
   "execution_count": null,
   "id": "4ed014b4-f847-4fe3-b68d-a5503df01ea8",
   "metadata": {},
   "outputs": [],
   "source": [
    "@dsl.component(target_image='chasechristensen/xgboost_serve_component:v3')\n",
    "def create_inference_service(timeout_period: float,max_timeout: float,name: str,storageUri: str,raw_manifest_url: str)-> None:\n",
    "    config.load_incluster_config()\n",
    "    api_instance = client.CustomObjectsApi()\n",
    "    body = get_yaml_from_git(raw_manifest_url)\n",
    "    group = 'serving.kserve.io'\n",
    "    version = 'v1beta1'\n",
    "    plural = 'inferenceservices'\n",
    "    body['metadata']['name'] = name\n",
    "    print( body['metadata']['name'])\n",
    "    body['spec']['predictor']['xgboost']['storageUri']=\"pvc://\"+storageUri\n",
    "    namespace=get_namespace()\n",
    "    try:\n",
    "        api_response = api_instance.create_namespaced_custom_object(group=group, version=version, namespace=namespace, plural=plural, body=body)\n",
    "        print(\"Custom resource applied. Status: %s\" % api_response) \n",
    "        print(f\"Monitoring status...\")\n",
    "        monitor_server_status(api_instance, group, version, namespace, plural, body['metadata']['name'],timeout_period,max_timeout)      \n",
    "    except client.exceptions.ApiException as e:\n",
    "        print(f\"Failed to apply {name}: {e}\")\n",
    "        sys.exit(1)"
   ]
  },
  {
   "cell_type": "code",
   "execution_count": null,
   "id": "934408b7-0a66-4b96-b27b-e5162b2f3116",
   "metadata": {
    "tags": []
   },
   "outputs": [],
   "source": [
    "@dsl.pipeline\n",
    "def xgboost_train_pipeline(claim: str, train_manifest_url:str,timeout: float, max_time: float, workers: float,masters: float,storage: float, serve_manifest_url: str, model_name: str) -> None:\n",
    "    task1=create_volume(pvc_name=claim,timeout_period=timeout,max_timeout=max_time,storage_size=storage)\n",
    "    task2 = xgboost_train(claim_name=task1.output, raw_manifest_url=train_manifest_url,timeout_period=timeout,max_timeout=max_time,worker_replicas=workers,master_replicas=masters)\n",
    "    task3 = create_inference_service(timeout_period=timeout,max_timeout=max_time,name=model_name,storageUri=task1.output,raw_manifest_url=serve_manifest_url).after(task2)\n",
    "    "
   ]
  },
  {
   "cell_type": "code",
   "execution_count": null,
   "id": "126642e3-113d-4edc-9da5-9e372efedb0c",
   "metadata": {},
   "outputs": [],
   "source": [
    "compiler.Compiler().compile(xgboost_train_pipeline, 'pipeline.yml')"
   ]
  },
  {
   "cell_type": "code",
   "execution_count": 165,
   "id": "2baad391-90b3-4dfb-999b-be9d58aed50c",
   "metadata": {
    "tags": []
   },
   "outputs": [
    {
     "ename": "AttributeError",
     "evalue": "module 'kubernetes.client' has no attribute 'create_run_from_pipeline_package'",
     "output_type": "error",
     "traceback": [
      "\u001b[0;31m---------------------------------------------------------------------------\u001b[0m",
      "\u001b[0;31mAttributeError\u001b[0m                            Traceback (most recent call last)",
      "Cell \u001b[0;32mIn[165], line 1\u001b[0m\n\u001b[0;32m----> 1\u001b[0m run \u001b[38;5;241m=\u001b[39m \u001b[43mclient\u001b[49m\u001b[38;5;241;43m.\u001b[39;49m\u001b[43mcreate_run_from_pipeline_package\u001b[49m(\n\u001b[1;32m      2\u001b[0m     \u001b[38;5;124m'\u001b[39m\u001b[38;5;124mpipeline.yml\u001b[39m\u001b[38;5;124m'\u001b[39m,\n\u001b[1;32m      3\u001b[0m     arguments\u001b[38;5;241m=\u001b[39m{\n\u001b[1;32m      4\u001b[0m         \u001b[38;5;124m'\u001b[39m\u001b[38;5;124mclaim\u001b[39m\u001b[38;5;124m'\u001b[39m:\u001b[38;5;124m\"\u001b[39m\u001b[38;5;124miris\u001b[39m\u001b[38;5;124m\"\u001b[39m,\n\u001b[1;32m      5\u001b[0m         \u001b[38;5;124m'\u001b[39m\u001b[38;5;124mtrain_manifest_url\u001b[39m\u001b[38;5;124m'\u001b[39m:\u001b[38;5;124m\"\u001b[39m\u001b[38;5;124mhttps://raw.githubusercontent.com/chasecadet/kubeflow_course/main/kubeflow_integrations/volcano_iris_train.yml\u001b[39m\u001b[38;5;124m\"\u001b[39m,\n\u001b[1;32m      6\u001b[0m         \u001b[38;5;124m'\u001b[39m\u001b[38;5;124mtimeout\u001b[39m\u001b[38;5;124m'\u001b[39m:\u001b[38;5;241m15.0\u001b[39m,\n\u001b[1;32m      7\u001b[0m         \u001b[38;5;124m'\u001b[39m\u001b[38;5;124mmax_time\u001b[39m\u001b[38;5;124m'\u001b[39m:\u001b[38;5;241m20.0\u001b[39m,\n\u001b[1;32m      8\u001b[0m         \u001b[38;5;124m'\u001b[39m\u001b[38;5;124mworkers\u001b[39m\u001b[38;5;124m'\u001b[39m:\u001b[38;5;241m3\u001b[39m,\n\u001b[1;32m      9\u001b[0m         \u001b[38;5;124m'\u001b[39m\u001b[38;5;124mmasters\u001b[39m\u001b[38;5;124m'\u001b[39m:\u001b[38;5;241m1\u001b[39m,\n\u001b[1;32m     10\u001b[0m         \u001b[38;5;124m'\u001b[39m\u001b[38;5;124mstorage\u001b[39m\u001b[38;5;124m'\u001b[39m:\u001b[38;5;241m4\u001b[39m,\n\u001b[1;32m     11\u001b[0m         \u001b[38;5;124m'\u001b[39m\u001b[38;5;124mserve_manifest_url\u001b[39m\u001b[38;5;124m'\u001b[39m:\u001b[38;5;124m\"\u001b[39m\u001b[38;5;124mhttps://raw.githubusercontent.com/chasecadet/kubeflow_course/main/kubeflow_integrations/kserve_pvc.yml\u001b[39m\u001b[38;5;124m\"\u001b[39m,\n\u001b[1;32m     12\u001b[0m         \u001b[38;5;124m'\u001b[39m\u001b[38;5;124mmodel_name\u001b[39m\u001b[38;5;124m'\u001b[39m: \u001b[38;5;124m\"\u001b[39m\u001b[38;5;124miris\u001b[39m\u001b[38;5;124m\"\u001b[39m,\n\u001b[1;32m     13\u001b[0m     },\n\u001b[1;32m     14\u001b[0m )\n",
      "\u001b[0;31mAttributeError\u001b[0m: module 'kubernetes.client' has no attribute 'create_run_from_pipeline_package'"
     ]
    }
   ],
   "source": [
    "client = kfp.Client()\n",
    "run = client.create_run_from_pipeline_package(\n",
    "    'pipeline.yml',\n",
    "    arguments={\n",
    "        'claim':\"iris\",\n",
    "        'train_manifest_url':\"https://raw.githubusercontent.com/chasecadet/kubeflow_course/main/kubeflow_integrations/volcano_iris_train.yml\",\n",
    "        'timeout':15.0,\n",
    "        'max_time':20.0,\n",
    "        'workers':3,\n",
    "        'masters':1,\n",
    "        'storage':4,\n",
    "        'serve_manifest_url':\"https://raw.githubusercontent.com/chasecadet/kubeflow_course/main/kubeflow_integrations/kserve_pvc.yml\",\n",
    "        'model_name': \"iris\",\n",
    "    },\n",
    ")"
   ]
  },
  {
   "cell_type": "code",
   "execution_count": null,
   "id": "29fd9688-22e1-466e-9eb6-8e0cea5d6724",
   "metadata": {
    "tags": []
   },
   "outputs": [],
   "source": [
    "inference_input = {\n",
    "  \"inputs\": [\n",
    "    {\n",
    "      \"name\": \"feature_name_or_tensor\",\n",
    "      \"shape\": [1, 4],\n",
    "      \"datatype\": \"FP32\",\n",
    "      \"data\": [6.8, 2.8, 4.8, 1.4]\n",
    "    }\n",
    "  ]\n",
    "}\n",
    "\n",
    "isvc_url=\"http://iris-predictor.christensenc3526.svc.cluster.local/v2/models/iris/infer\"\n",
    "response = requests.post(isvc_url, json=inference_input)\n",
    "print(response.text)\n"
   ]
  },
  {
   "cell_type": "code",
   "execution_count": null,
   "id": "82e7ad85-3422-4764-b0b7-37e6b5eed227",
   "metadata": {},
   "outputs": [],
   "source": [
    "!curl http://iris-predictor.christensenc3526.svc.cluster.local"
   ]
  },
  {
   "cell_type": "code",
   "execution_count": null,
   "id": "b4596740-2722-4b1c-96e4-d89962cc788c",
   "metadata": {},
   "outputs": [],
   "source": []
  }
 ],
 "metadata": {
  "kernelspec": {
   "display_name": "Python 3 (ipykernel)",
   "language": "python",
   "name": "python3"
  },
  "language_info": {
   "codemirror_mode": {
    "name": "ipython",
    "version": 3
   },
   "file_extension": ".py",
   "mimetype": "text/x-python",
   "name": "python",
   "nbconvert_exporter": "python",
   "pygments_lexer": "ipython3",
   "version": "3.11.6"
  }
 },
 "nbformat": 4,
 "nbformat_minor": 5
}
