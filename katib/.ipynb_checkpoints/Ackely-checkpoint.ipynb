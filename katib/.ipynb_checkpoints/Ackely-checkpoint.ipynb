{
 "cells": [
  {
   "cell_type": "markdown",
   "id": "fb3cf6f6-d20d-4465-a4bf-01e66ad52ea3",
   "metadata": {
    "tags": []
   },
   "source": [
    "<p align=\"center\">\n",
    "  <img src=\"ackley_mountain.png\" />\n",
    "</p>\n"
   ]
  },
  {
   "cell_type": "markdown",
   "id": "4e2dbfb4-c341-4478-acb9-8cec2d1f5a34",
   "metadata": {},
   "source": [
    "## Introduction\n",
    "This notebook will create a *Katib objective* for an experiment attempting to minimize an Ackley function. After we define an objective, we will define *parameters*. Lastly we will submit our experiment to the Katib client ensuring we define the *objective_type*, *max_trial_count*, and *resources_per_trial*. We will then be able to view our Katib experiment from the Kubeflow Central Dashboard."
   ]
  },
  {
   "cell_type": "markdown",
   "id": "1578215e-0608-402d-af4e-810a97801f41",
   "metadata": {},
   "source": [
    "## Katib Code\n",
    "Run the below code and click the link on the output to see your Katib experiment in action."
   ]
  },
  {
   "cell_type": "code",
   "execution_count": 6,
   "id": "0019a4cd-1cc4-431e-a69e-0be9fff200e7",
   "metadata": {
    "tags": []
   },
   "outputs": [
    {
     "name": "stdout",
     "output_type": "stream",
     "text": [
      "Collecting kubeflow-katib\n",
      "  Downloading kubeflow_katib-0.16.0-py3-none-any.whl.metadata (1.4 kB)\n",
      "Requirement already satisfied: certifi>=14.05.14 in /opt/conda/lib/python3.11/site-packages (from kubeflow-katib) (2023.7.22)\n",
      "Requirement already satisfied: six>=1.10 in /opt/conda/lib/python3.11/site-packages (from kubeflow-katib) (1.16.0)\n",
      "Requirement already satisfied: setuptools>=21.0.0 in /opt/conda/lib/python3.11/site-packages (from kubeflow-katib) (68.2.2)\n",
      "Requirement already satisfied: urllib3>=1.15.1 in /opt/conda/lib/python3.11/site-packages (from kubeflow-katib) (1.26.18)\n",
      "Requirement already satisfied: kubernetes>=23.6.0 in /opt/conda/lib/python3.11/site-packages (from kubeflow-katib) (26.1.0)\n",
      "Collecting grpcio>=1.41.1 (from kubeflow-katib)\n",
      "  Downloading grpcio-1.62.1-cp311-cp311-manylinux_2_17_x86_64.manylinux2014_x86_64.whl.metadata (4.0 kB)\n",
      "Requirement already satisfied: protobuf<=3.20.3,>=3.19.5 in /opt/conda/lib/python3.11/site-packages (from kubeflow-katib) (3.20.3)\n",
      "Requirement already satisfied: python-dateutil>=2.5.3 in /opt/conda/lib/python3.11/site-packages (from kubernetes>=23.6.0->kubeflow-katib) (2.8.2)\n",
      "Requirement already satisfied: pyyaml>=5.4.1 in /opt/conda/lib/python3.11/site-packages (from kubernetes>=23.6.0->kubeflow-katib) (6.0.1)\n",
      "Requirement already satisfied: google-auth>=1.0.1 in /opt/conda/lib/python3.11/site-packages (from kubernetes>=23.6.0->kubeflow-katib) (2.23.4)\n",
      "Requirement already satisfied: websocket-client!=0.40.0,!=0.41.*,!=0.42.*,>=0.32.0 in /opt/conda/lib/python3.11/site-packages (from kubernetes>=23.6.0->kubeflow-katib) (1.6.4)\n",
      "Requirement already satisfied: requests in /opt/conda/lib/python3.11/site-packages (from kubernetes>=23.6.0->kubeflow-katib) (2.31.0)\n",
      "Requirement already satisfied: requests-oauthlib in /opt/conda/lib/python3.11/site-packages (from kubernetes>=23.6.0->kubeflow-katib) (1.3.1)\n",
      "Requirement already satisfied: cachetools<6.0,>=2.0.0 in /opt/conda/lib/python3.11/site-packages (from google-auth>=1.0.1->kubernetes>=23.6.0->kubeflow-katib) (5.3.2)\n",
      "Requirement already satisfied: pyasn1-modules>=0.2.1 in /opt/conda/lib/python3.11/site-packages (from google-auth>=1.0.1->kubernetes>=23.6.0->kubeflow-katib) (0.3.0)\n",
      "Requirement already satisfied: rsa<5,>=3.1.4 in /opt/conda/lib/python3.11/site-packages (from google-auth>=1.0.1->kubernetes>=23.6.0->kubeflow-katib) (4.9)\n",
      "Requirement already satisfied: charset-normalizer<4,>=2 in /opt/conda/lib/python3.11/site-packages (from requests->kubernetes>=23.6.0->kubeflow-katib) (3.3.1)\n",
      "Requirement already satisfied: idna<4,>=2.5 in /opt/conda/lib/python3.11/site-packages (from requests->kubernetes>=23.6.0->kubeflow-katib) (3.4)\n",
      "Requirement already satisfied: oauthlib>=3.0.0 in /opt/conda/lib/python3.11/site-packages (from requests-oauthlib->kubernetes>=23.6.0->kubeflow-katib) (3.2.2)\n",
      "Requirement already satisfied: pyasn1<0.6.0,>=0.4.6 in /opt/conda/lib/python3.11/site-packages (from pyasn1-modules>=0.2.1->google-auth>=1.0.1->kubernetes>=23.6.0->kubeflow-katib) (0.5.0)\n",
      "Downloading kubeflow_katib-0.16.0-py3-none-any.whl (107 kB)\n",
      "\u001b[2K   \u001b[90m━━━━━━━━━━━━━━━━━━━━━━━━━━━━━━━━━━━━━━━━\u001b[0m \u001b[32m107.9/107.9 kB\u001b[0m \u001b[31m1.0 MB/s\u001b[0m eta \u001b[36m0:00:00\u001b[0mta \u001b[36m0:00:01\u001b[0m\n",
      "\u001b[?25hDownloading grpcio-1.62.1-cp311-cp311-manylinux_2_17_x86_64.manylinux2014_x86_64.whl (5.5 MB)\n",
      "\u001b[2K   \u001b[90m━━━━━━━━━━━━━━━━━━━━━━━━━━━━━━━━━━━━━━━━\u001b[0m \u001b[32m5.5/5.5 MB\u001b[0m \u001b[31m23.3 MB/s\u001b[0m eta \u001b[36m0:00:00\u001b[0ma \u001b[36m0:00:01\u001b[0m\n",
      "\u001b[?25hInstalling collected packages: grpcio, kubeflow-katib\n",
      "Successfully installed grpcio-1.62.1 kubeflow-katib-0.16.0\n"
     ]
    }
   ],
   "source": [
    "!pip install kubeflow-katib"
   ]
  },
  {
   "cell_type": "code",
   "execution_count": 8,
   "id": "2f7d5835-58ef-4d46-8b46-6e0a153557db",
   "metadata": {
    "tags": []
   },
   "outputs": [
    {
     "name": "stdout",
     "output_type": "stream",
     "text": [
      "Experiment christensenc3526/ackley-experiment has been created\n"
     ]
    },
    {
     "data": {
      "text/html": [
       "Katib Experiment ackley-experiment link <a href=\"/_/katib/#/katib/hp_monitor/christensenc3526/ackley-experiment\" target=\"_blank\">here</a>"
      ],
      "text/plain": [
       "<IPython.core.display.HTML object>"
      ]
     },
     "metadata": {},
     "output_type": "display_data"
    },
    {
     "name": "stdout",
     "output_type": "stream",
     "text": [
      "None\n"
     ]
    }
   ],
   "source": [
    "import kubeflow.katib as katib\n",
    "def objective(parameters):\n",
    "    import math\n",
    "    import time\n",
    "    time.sleep(5)\n",
    "   \n",
    "    # Convert parameters from string to float.\n",
    "    x = float(parameters[\"x\"])\n",
    "    y = float(parameters[\"y\"])\n",
    "    # Define the Ackley function.\n",
    "    result = (-20 * math.exp(-0.2 * math.sqrt(0.5 * (x**2 + y**2))) -\n",
    "               math.exp(0.5 * (math.cos(2 * math.pi * x) + math.cos(2 * math.pi * y))) + math.e + 20)\n",
    "    print(f\"result={result}\")\n",
    "# Step 2. Create HyperParameter search space.\n",
    "parameters = {\n",
    "    \"x\": katib.search.double(min=-5, max=5),\n",
    "    \"y\": katib.search.double(min=-5, max=5)\n",
    "}\n",
    "\n",
    "# Step 3. Create Katib Experiment with 20 Trials.\n",
    "katib_client = katib.KatibClient()\n",
    "name = \"ackley-experiment\"\n",
    "katib_client.tune(\n",
    "    name=name,\n",
    "    objective=objective,\n",
    "    parameters=parameters,\n",
    "    objective_type=\"minimize\",\n",
    "    objective_metric_name=\"result\",\n",
    "    max_trial_count=15,\n",
    "    resources_per_trial={\"cpu\": \"1\"},\n",
    "    \n",
    ")\n",
    "\n",
    "# Step 4. Get the best HyperParameters.\n",
    "print(katib_client.get_optimal_hyperparameters(name))\n"
   ]
  },
  {
   "cell_type": "code",
   "execution_count": 9,
   "id": "565f3f5f-6aa2-4bc6-b4c4-967df1e19732",
   "metadata": {
    "tags": []
   },
   "outputs": [
    {
     "name": "stdout",
     "output_type": "stream",
     "text": [
      "<function objective at 0x7f3a00211580>\n"
     ]
    }
   ],
   "source": [
    "print(objective)"
   ]
  },
  {
   "cell_type": "code",
   "execution_count": null,
   "id": "8eed5591-1348-4452-af13-40bada65bfda",
   "metadata": {},
   "outputs": [],
   "source": []
  }
 ],
 "metadata": {
  "kernelspec": {
   "display_name": "Python 3 (ipykernel)",
   "language": "python",
   "name": "python3"
  },
  "language_info": {
   "codemirror_mode": {
    "name": "ipython",
    "version": 3
   },
   "file_extension": ".py",
   "mimetype": "text/x-python",
   "name": "python",
   "nbconvert_exporter": "python",
   "pygments_lexer": "ipython3",
   "version": "3.11.6"
  }
 },
 "nbformat": 4,
 "nbformat_minor": 5
}
