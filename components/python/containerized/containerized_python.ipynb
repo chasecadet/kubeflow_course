{
 "cells": [
  {
   "cell_type": "markdown",
   "id": "ef53d60d-9e1e-44d8-93c3-996bbd2dde10",
   "metadata": {},
   "source": [
    "<p align=\"center\">\n",
    "  <img src=\"containerized_python.png\"/>\n",
    "</p>"
   ]
  },
  {
   "cell_type": "markdown",
   "id": "4e5e640b-ee8b-471d-804f-f4908523b8ae",
   "metadata": {},
   "source": [
    "# Introduction\n",
    "This Kubeflow notebook will test that we can connect to the KFP SDK. Then, it will create a *calculate_material_cost* containerized Python component, a *material_pipeline* pipelne, and submit our component to the newly created pipeline as a run. Execute the below cells in order to view the output on the Kubeflow Central Dashboard."
   ]
  },
  {
   "cell_type": "code",
   "execution_count": null,
   "id": "3d076d05-c57a-410e-8656-cfae69bafa00",
   "metadata": {
    "tags": []
   },
   "outputs": [],
   "source": [
    "import kfp\n",
    "from kfp import dsl\n",
    "from kfp import compiler\n",
    "from kfp.client import Client\n",
    "\n",
    "\n",
    "client = kfp.Client()\n",
    "print(client.list_experiments())"
   ]
  },
  {
   "cell_type": "code",
   "execution_count": null,
   "id": "15f656ca-80ff-4605-93b7-da726a529007",
   "metadata": {
    "tags": []
   },
   "outputs": [],
   "source": [
    "@dsl.component(target_image='chasechristensen/material_cost_component:v1')\n",
    "def calculate_material_cost(radius: float, cost_per_square_unit: float) -> float:\n",
    "    \"\"\"Calculates the cost of materials needed to cover a circle's area.\"\"\"\n",
    "    area = calculate_area(radius)\n",
    "    total_cost = area * cost_per_square_unit\n",
    "    print(f\"The total cost to cover the area of a circle with radius {radius} is: ${total_cost:.2f}\")\n",
    "    return total_cost"
   ]
  },
  {
   "cell_type": "code",
   "execution_count": 5,
   "id": "53d80abe-db69-4c17-80ed-c8f57f80faca",
   "metadata": {
    "tags": []
   },
   "outputs": [],
   "source": [
    "@dsl.pipeline\n",
    "def material_pipeline(x: float, y: float) -> float:\n",
    "    task1 = calculate_material_cost(radius=x, cost_per_square_unit=y)\n",
    "    return task1.output\n"
   ]
  },
  {
   "cell_type": "code",
   "execution_count": null,
   "id": "4918c2ee-c574-485e-b6f7-24825f37ff39",
   "metadata": {},
   "outputs": [],
   "source": []
  },
  {
   "cell_type": "code",
   "execution_count": null,
   "id": "b972a9f1-4644-4232-9f32-6da5dccde82b",
   "metadata": {},
   "outputs": [],
   "source": []
  },
  {
   "cell_type": "code",
   "execution_count": 6,
   "id": "f9f97de0-2686-4eff-a1b1-dcd59a90cea6",
   "metadata": {
    "tags": []
   },
   "outputs": [],
   "source": [
    "compiler.Compiler().compile(material_pipeline, 'pipeline.yml')"
   ]
  },
  {
   "cell_type": "code",
   "execution_count": 8,
   "id": "53ed00ce-45cc-4293-a650-836676d77db6",
   "metadata": {
    "tags": []
   },
   "outputs": [
    {
     "data": {
      "text/html": [
       "<a href=\"/pipeline/#/experiments/details/7671697d-de7a-47a8-975a-27b0b89575ee\" target=\"_blank\" >Experiment details</a>."
      ],
      "text/plain": [
       "<IPython.core.display.HTML object>"
      ]
     },
     "metadata": {},
     "output_type": "display_data"
    },
    {
     "data": {
      "text/html": [
       "<a href=\"/pipeline/#/runs/details/7cd83393-bf53-4101-aa39-8387626eb81c\" target=\"_blank\" >Run details</a>."
      ],
      "text/plain": [
       "<IPython.core.display.HTML object>"
      ]
     },
     "metadata": {},
     "output_type": "display_data"
    }
   ],
   "source": [
    "run = client.create_run_from_pipeline_package(\n",
    "    'pipeline.yml',\n",
    "    arguments={\n",
    "        'x': 2.0,\n",
    "        'y':3.0\n",
    "    },\n",
    ")"
   ]
  },
  {
   "cell_type": "code",
   "execution_count": 1,
   "id": "fddf0ac4-ecf9-4d1f-b7f2-d6a731306ca0",
   "metadata": {},
   "outputs": [
    {
     "name": "stdout",
     "output_type": "stream",
     "text": [
      "component_metadata\t    kfp_config.ini   pipeline.yml\n",
      "containerized_python.ipynb  math_utils.py    __pycache__\n",
      "Dockerfile\t\t    my_component.py  runtime-requirements.txt\n"
     ]
    }
   ],
   "source": [
    "!ls"
   ]
  },
  {
   "cell_type": "code",
   "execution_count": null,
   "id": "052c16e2-6d74-4827-87cd-53113874de1d",
   "metadata": {},
   "outputs": [],
   "source": []
  }
 ],
 "metadata": {
  "kernelspec": {
   "display_name": "Python 3 (ipykernel)",
   "language": "python",
   "name": "python3"
  },
  "language_info": {
   "codemirror_mode": {
    "name": "ipython",
    "version": 3
   },
   "file_extension": ".py",
   "mimetype": "text/x-python",
   "name": "python",
   "nbconvert_exporter": "python",
   "pygments_lexer": "ipython3",
   "version": "3.11.6"
  }
 },
 "nbformat": 4,
 "nbformat_minor": 5
}
