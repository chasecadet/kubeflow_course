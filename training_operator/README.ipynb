{
 "cells": [
  {
   "cell_type": "markdown",
   "id": "18823a51-c5c7-4097-9f0a-36873fd6e697",
   "metadata": {},
   "source": [
    "# Important Details\n",
    "This directory has two manifests in it. You will need to lanch the xgboostjob manifest first and then the predict manifest. \n",
    "## Volumes\n",
    "The manifests expect a local volume named `task-pv-storage`. Ensure you provision one via a manifest or the volumes tab. "
   ]
  },
  {
   "cell_type": "code",
   "execution_count": null,
   "id": "c7f40623-ed67-4309-bca3-660b5aeaeaff",
   "metadata": {},
   "outputs": [],
   "source": [
    "!kubectl create -f xgboostjob_v1_iris_train_local.yaml"
   ]
  },
  {
   "cell_type": "code",
   "execution_count": 1,
   "id": "197ae38c-5abd-4516-9038-849ed6f92427",
   "metadata": {
    "tags": []
   },
   "outputs": [
    {
     "name": "stdout",
     "output_type": "stream",
     "text": [
      "xgboostjob.kubeflow.org/xgboost-dist-iris-test-predict-local created\n"
     ]
    }
   ],
   "source": [
    "!kubectl create -f xgboost_predict_local.yaml"
   ]
  },
  {
   "cell_type": "code",
   "execution_count": null,
   "id": "8d58af49-fe68-4930-aa10-cdfd556c9527",
   "metadata": {},
   "outputs": [],
   "source": []
  }
 ],
 "metadata": {
  "kernelspec": {
   "display_name": "Python 3 (ipykernel)",
   "language": "python",
   "name": "python3"
  },
  "language_info": {
   "codemirror_mode": {
    "name": "ipython",
    "version": 3
   },
   "file_extension": ".py",
   "mimetype": "text/x-python",
   "name": "python",
   "nbconvert_exporter": "python",
   "pygments_lexer": "ipython3",
   "version": "3.11.6"
  }
 },
 "nbformat": 4,
 "nbformat_minor": 5
}
