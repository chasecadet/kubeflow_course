{
 "cells": [
  {
   "cell_type": "markdown",
   "id": "c2c51b55-a723-4a50-889e-c34e30b67bb2",
   "metadata": {},
   "source": [
    "# Unicorn Carousel Quote Pipeline Example"
   ]
  },
  {
   "cell_type": "markdown",
   "id": "de4b1578-0785-4101-916d-9be6f608a0a7",
   "metadata": {},
   "source": [
    "<p align=\"center\">\n",
    "  <img src=\"unicorn_bill.png\" />\n",
    "</p>\n"
   ]
  },
  {
   "cell_type": "markdown",
   "id": "230d2f89-8ef1-45e4-83bc-6d854c931267",
   "metadata": {},
   "source": [
    "## Introduction\n",
    "The goal if this sample notebook is to demonstrate a more complex pipeline using all three types of components and some simple data passing. This pipeline generates a fictionl quote for a magical unicorn carousel based on the radius of the carousel,the cost of materials, and the local state taxes. Our quote adjusts based on the size of the required carousel. We use two Python components and an R component. The final generate_quote component is written in R. "
   ]
  },
  {
   "cell_type": "markdown",
   "id": "1cd2e964-bd40-4f8f-b92b-979536e211fe",
   "metadata": {},
   "source": [
    "## Intial Import Step"
   ]
  },
  {
   "cell_type": "code",
   "execution_count": 52,
   "id": "802abc49-3291-4017-924a-6b3c1ae3e7c0",
   "metadata": {},
   "outputs": [
    {
     "name": "stdout",
     "output_type": "stream",
     "text": [
      "{'experiments': [{'created_at': datetime.datetime(2024, 2, 17, 17, 59, 4, tzinfo=tzlocal()),\n",
      "                  'description': 'my first Kubeflow experiment! ',\n",
      "                  'display_name': 'hello_kubeflow',\n",
      "                  'experiment_id': 'c9e56f11-3433-4cef-a1a4-d3fb20c9b26e',\n",
      "                  'namespace': 'christensenc3526',\n",
      "                  'storage_state': 'AVAILABLE'},\n",
      "                 {'created_at': datetime.datetime(2024, 2, 18, 16, 5, 37, tzinfo=tzlocal()),\n",
      "                  'description': None,\n",
      "                  'display_name': 'new_experiment',\n",
      "                  'experiment_id': 'bc7afbde-6c81-41e5-b7ef-ef81545c36e7',\n",
      "                  'namespace': 'christensenc3526',\n",
      "                  'storage_state': 'AVAILABLE'},\n",
      "                 {'created_at': datetime.datetime(2024, 2, 26, 4, 33, 34, tzinfo=tzlocal()),\n",
      "                  'description': None,\n",
      "                  'display_name': 'Default',\n",
      "                  'experiment_id': '7671697d-de7a-47a8-975a-27b0b89575ee',\n",
      "                  'namespace': 'christensenc3526',\n",
      "                  'storage_state': 'AVAILABLE'}],\n",
      " 'next_page_token': None,\n",
      " 'total_size': 3}\n"
     ]
    }
   ],
   "source": [
    "import kfp\n",
    "from kfp import dsl\n",
    "from kfp import compiler\n",
    "from kfp.client import Client\n",
    "\n",
    "\n",
    "client = kfp.Client()\n",
    "print(client.list_experiments())"
   ]
  },
  {
   "cell_type": "markdown",
   "id": "64bfe362-5caf-4d3d-ba65-eeda0b6d5bab",
   "metadata": {},
   "source": [
    "## Containerized Python Component Step"
   ]
  },
  {
   "cell_type": "code",
   "execution_count": 53,
   "id": "43029457-da66-4f3e-a754-bcf0ed953ed6",
   "metadata": {},
   "outputs": [],
   "source": [
    "@dsl.component(target_image='chasechristensen/material_cost_component:v1')\n",
    "def calculate_material_cost(radius: float, cost_per_square_unit: float) -> float:\n",
    "    \"\"\"Calculates the cost of materials needed to cover a circle's area.\"\"\"\n",
    "    area = calculate_area(radius)\n",
    "    total_cost = area * cost_per_square_unit\n",
    "    print(f\"The total cost to cover the area of a circle with radius {radius} is: ${total_cost:.2f}\")\n",
    "    return total_cost"
   ]
  },
  {
   "cell_type": "markdown",
   "id": "05516c94-cf0d-448c-938d-95c43f7e8129",
   "metadata": {
    "tags": []
   },
   "source": [
    "## Lightweight Python Component Step"
   ]
  },
  {
   "cell_type": "code",
   "execution_count": 55,
   "id": "a156e366-4212-4c05-9161-0ded03935ac8",
   "metadata": {},
   "outputs": [],
   "source": [
    "@dsl.component\n",
    "def get_state_tax_rate(state: str) -> float:\n",
    "    \"\"\"Returns the tax rate for a given state or raises an error if the state is invalid.\"\"\"\n",
    "    # Dictionary of state tax rates (simplified and fictional rates for illustration)\n",
    "    state_tax_rates = {\n",
    "        \"AL\": 0.04, \"AK\": 0.0, \"AZ\": 0.056, \"AR\": 0.065, \"CA\": 0.075,\n",
    "        \"CO\": 0.029, \"CT\": 0.0635, \"DE\": 0.0, \"FL\": 0.06, \"GA\": 0.04,\n",
    "        \"HI\": 0.04, \"ID\": 0.06, \"IL\": 0.0625, \"IN\": 0.07, \"IA\": 0.06,\n",
    "        \"KS\": 0.065, \"KY\": 0.06, \"LA\": 0.0445, \"ME\": 0.055, \"MD\": 0.06,\n",
    "        \"MA\": 0.0625, \"MI\": 0.06, \"MN\": 0.06875, \"MS\": 0.07, \"MO\": 0.04225,\n",
    "        \"MT\": 0.0, \"NE\": 0.055, \"NV\": 0.0685, \"NH\": 0.0, \"NJ\": 0.06625,\n",
    "        \"NM\": 0.05125, \"NY\": 0.04, \"NC\": 0.0475, \"ND\": 0.05, \"OH\": 0.0575,\n",
    "        \"OK\": 0.045, \"OR\": 0.0, \"PA\": 0.06, \"RI\": 0.07, \"SC\": 0.06,\n",
    "        \"SD\": 0.045, \"TN\": 0.07, \"TX\": 0.0625, \"UT\": 0.0485, \"VT\": 0.06,\n",
    "        \"VA\": 0.053, \"WA\": 0.065, \"WV\": 0.06, \"WI\": 0.05, \"WY\": 0.04\n",
    "    }\n",
    "\n",
    "    # Check if the state is valid and return the tax rate\n",
    "    if state.upper() in state_tax_rates:\n",
    "        return state_tax_rates[state.upper()]\n",
    "    else:\n",
    "        # If the state is not valid, raise an error and exit\n",
    "        raise ValueError(f\"Invalid state: {state}. Please provide a valid US state abbreviation.\")\n"
   ]
  },
  {
   "cell_type": "markdown",
   "id": "8c4a8219-7c13-4df1-be98-6573e8f1a888",
   "metadata": {},
   "source": [
    "## Containerized Component Step"
   ]
  },
  {
   "cell_type": "code",
   "execution_count": 56,
   "id": "349062b3-9b17-4cbc-8280-1f8f1a9646f3",
   "metadata": {
    "tags": []
   },
   "outputs": [],
   "source": [
    "@dsl.container_component\n",
    "def generate_quote(total_cost: float, state_tax: float, quote: dsl.OutputPath(str)):\n",
    "    \"\"\"output a quote\"\"\"\n",
    "    return dsl.ContainerSpec(\n",
    "        image='chasechristensen/generate_quote:v1',\n",
    "        command=[\n",
    "            \"Rscript\",\"/usr/local/bin/generate_quote.r\"\n",
    "        ],\n",
    "        args=[total_cost,state_tax,quote])"
   ]
  },
  {
   "cell_type": "markdown",
   "id": "0ace60a9-dad1-4500-87ed-f3b6fa4c980c",
   "metadata": {},
   "source": [
    "## Pipeline Declaration"
   ]
  },
  {
   "cell_type": "code",
   "execution_count": 57,
   "id": "aafb92a6-13d2-4310-b65a-f362dba8fd6e",
   "metadata": {},
   "outputs": [],
   "source": [
    "@dsl.pipeline\n",
    "def unicorn_carousel_construction_quote(carou_radius: float, mat_costs: float,st: str) -> str:\n",
    "    task1 = calculate_material_cost(radius=carou_radius, cost_per_square_unit=mat_costs)\n",
    "    task2 = get_state_tax_rate(state=st)\n",
    "    task3= generate_quote(total_cost=task1.output,state_tax=task2.output)\n",
    "    return task3.output\n"
   ]
  },
  {
   "cell_type": "markdown",
   "id": "ea6d9611-4f97-4358-a41e-e3d12f191df2",
   "metadata": {},
   "source": [
    "## Compiling the Pipeline"
   ]
  },
  {
   "cell_type": "code",
   "execution_count": 58,
   "id": "68c75d28-1137-423a-99f9-dbe5b185257e",
   "metadata": {
    "tags": []
   },
   "outputs": [],
   "source": [
    "compiler.Compiler().compile(unicorn_carousel_construction_quote, 'pipeline.yml')"
   ]
  },
  {
   "cell_type": "markdown",
   "id": "623ff49d-339c-4cbc-a0e1-4aeef930a9f2",
   "metadata": {},
   "source": [
    "## Pipeline Submission"
   ]
  },
  {
   "cell_type": "code",
   "execution_count": 59,
   "id": "6e01d807-857d-43fe-aded-c63413ac97c3",
   "metadata": {
    "tags": []
   },
   "outputs": [
    {
     "data": {
      "text/html": [
       "<a href=\"/pipeline/#/experiments/details/7671697d-de7a-47a8-975a-27b0b89575ee\" target=\"_blank\" >Experiment details</a>."
      ],
      "text/plain": [
       "<IPython.core.display.HTML object>"
      ]
     },
     "metadata": {},
     "output_type": "display_data"
    },
    {
     "data": {
      "text/html": [
       "<a href=\"/pipeline/#/runs/details/6a09e60c-bc18-4ff6-85d6-a9948e118cc1\" target=\"_blank\" >Run details</a>."
      ],
      "text/plain": [
       "<IPython.core.display.HTML object>"
      ]
     },
     "metadata": {},
     "output_type": "display_data"
    }
   ],
   "source": [
    "run = client.create_run_from_pipeline_package(\n",
    "    'pipeline.yml',\n",
    "    arguments={\n",
    "        'carou_radius': 40.0,\n",
    "        'mat_costs':50.35,\n",
    "        'st': \"AZ\"\n",
    "    },\n",
    ")"
   ]
  },
  {
   "cell_type": "code",
   "execution_count": null,
   "id": "3178a495-4ba2-4506-a6ef-39a2c6bd2b0f",
   "metadata": {},
   "outputs": [],
   "source": []
  }
 ],
 "metadata": {
  "kernelspec": {
   "display_name": "Python 3 (ipykernel)",
   "language": "python",
   "name": "python3"
  },
  "language_info": {
   "codemirror_mode": {
    "name": "ipython",
    "version": 3
   },
   "file_extension": ".py",
   "mimetype": "text/x-python",
   "name": "python",
   "nbconvert_exporter": "python",
   "pygments_lexer": "ipython3",
   "version": "3.11.6"
  }
 },
 "nbformat": 4,
 "nbformat_minor": 5
}
