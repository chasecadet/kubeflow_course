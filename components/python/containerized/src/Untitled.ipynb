{
 "cells": [
  {
   "cell_type": "code",
   "execution_count": 2,
   "id": "3d076d05-c57a-410e-8656-cfae69bafa00",
   "metadata": {
    "tags": []
   },
   "outputs": [
    {
     "name": "stdout",
     "output_type": "stream",
     "text": [
      "{'experiments': [{'created_at': datetime.datetime(2024, 2, 17, 17, 59, 4, tzinfo=tzlocal()),\n",
      "                  'description': 'my first Kubeflow experiment! ',\n",
      "                  'display_name': 'hello_kubeflow',\n",
      "                  'experiment_id': 'c9e56f11-3433-4cef-a1a4-d3fb20c9b26e',\n",
      "                  'namespace': 'christensenc3526',\n",
      "                  'storage_state': 'AVAILABLE'},\n",
      "                 {'created_at': datetime.datetime(2024, 2, 18, 16, 5, 37, tzinfo=tzlocal()),\n",
      "                  'description': None,\n",
      "                  'display_name': 'new_experiment',\n",
      "                  'experiment_id': 'bc7afbde-6c81-41e5-b7ef-ef81545c36e7',\n",
      "                  'namespace': 'christensenc3526',\n",
      "                  'storage_state': 'AVAILABLE'},\n",
      "                 {'created_at': datetime.datetime(2024, 2, 26, 4, 33, 34, tzinfo=tzlocal()),\n",
      "                  'description': None,\n",
      "                  'display_name': 'Default',\n",
      "                  'experiment_id': '7671697d-de7a-47a8-975a-27b0b89575ee',\n",
      "                  'namespace': 'christensenc3526',\n",
      "                  'storage_state': 'AVAILABLE'}],\n",
      " 'next_page_token': None,\n",
      " 'total_size': 3}\n"
     ]
    },
    {
     "name": "stderr",
     "output_type": "stream",
     "text": [
      "/opt/conda/lib/python3.11/site-packages/kfp/client/client.py:159: FutureWarning: This client only works with Kubeflow Pipeline v2.0.0-beta.2 and later versions.\n",
      "  warnings.warn(\n"
     ]
    }
   ],
   "source": [
    "import kfp\n",
    "from kfp import dsl\n",
    "from kfp import compiler\n",
    "from kfp.client import Client\n",
    "\n",
    "\n",
    "client = kfp.Client()\n",
    "print(client.list_experiments())"
   ]
  },
  {
   "cell_type": "code",
   "execution_count": 4,
   "id": "15f656ca-80ff-4605-93b7-da726a529007",
   "metadata": {
    "tags": []
   },
   "outputs": [
    {
     "name": "stderr",
     "output_type": "stream",
     "text": [
      "/opt/conda/lib/python3.11/site-packages/kfp/dsl/component_decorator.py:119: FutureWarning: Python 3.7 has reached end-of-life. The default base_image used by the @dsl.component decorator will switch from 'python:3.7' to 'python:3.8' on April 23, 2024. To ensure your existing components work with versions of the KFP SDK released after that date, you should provide an explicit base_image argument and ensure your component works as intended on Python 3.8.\n",
      "  return component_factory.create_component_from_func(\n"
     ]
    }
   ],
   "source": [
    "@dsl.component(target_image='chasechristensen/material_cost_component:v1')\n",
    "def calculate_material_cost(radius: float, cost_per_square_unit: float) -> float:\n",
    "    \"\"\"Calculates the cost of materials needed to cover a circle's area.\"\"\"\n",
    "    area = calculate_area(radius)\n",
    "    total_cost = area * cost_per_square_unit\n",
    "    print(f\"The total cost to cover the area of a circle with radius {radius} is: ${total_cost:.2f}\")\n",
    "    return total_cost"
   ]
  },
  {
   "cell_type": "code",
   "execution_count": 5,
   "id": "53d80abe-db69-4c17-80ed-c8f57f80faca",
   "metadata": {
    "tags": []
   },
   "outputs": [],
   "source": [
    "@dsl.pipeline\n",
    "def material_pipeline(x: float, y: float) -> float:\n",
    "    task1 = calculate_material_cost(radius=x, cost_per_square_unit=y)\n",
    "    return task1.output\n"
   ]
  },
  {
   "cell_type": "code",
   "execution_count": 6,
   "id": "f9f97de0-2686-4eff-a1b1-dcd59a90cea6",
   "metadata": {
    "tags": []
   },
   "outputs": [],
   "source": [
    "compiler.Compiler().compile(material_pipeline, 'pipeline.yml')"
   ]
  },
  {
   "cell_type": "code",
   "execution_count": 8,
   "id": "53ed00ce-45cc-4293-a650-836676d77db6",
   "metadata": {
    "tags": []
   },
   "outputs": [
    {
     "data": {
      "text/html": [
       "<a href=\"/pipeline/#/experiments/details/7671697d-de7a-47a8-975a-27b0b89575ee\" target=\"_blank\" >Experiment details</a>."
      ],
      "text/plain": [
       "<IPython.core.display.HTML object>"
      ]
     },
     "metadata": {},
     "output_type": "display_data"
    },
    {
     "data": {
      "text/html": [
       "<a href=\"/pipeline/#/runs/details/7cd83393-bf53-4101-aa39-8387626eb81c\" target=\"_blank\" >Run details</a>."
      ],
      "text/plain": [
       "<IPython.core.display.HTML object>"
      ]
     },
     "metadata": {},
     "output_type": "display_data"
    }
   ],
   "source": [
    "run = client.create_run_from_pipeline_package(\n",
    "    'pipeline.yml',\n",
    "    arguments={\n",
    "        'x': 2.0,\n",
    "        'y':3.0\n",
    "    },\n",
    ")"
   ]
  },
  {
   "cell_type": "code",
   "execution_count": null,
   "id": "fddf0ac4-ecf9-4d1f-b7f2-d6a731306ca0",
   "metadata": {},
   "outputs": [],
   "source": []
  }
 ],
 "metadata": {
  "kernelspec": {
   "display_name": "Python 3 (ipykernel)",
   "language": "python",
   "name": "python3"
  },
  "language_info": {
   "codemirror_mode": {
    "name": "ipython",
    "version": 3
   },
   "file_extension": ".py",
   "mimetype": "text/x-python",
   "name": "python",
   "nbconvert_exporter": "python",
   "pygments_lexer": "ipython3",
   "version": "3.11.6"
  }
 },
 "nbformat": 4,
 "nbformat_minor": 5
}
