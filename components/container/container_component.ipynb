{
 "cells": [
  {
   "cell_type": "code",
   "execution_count": 1,
   "id": "0325f0c7-7489-485a-969f-c2e27c686c09",
   "metadata": {
    "tags": []
   },
   "outputs": [
    {
     "name": "stdout",
     "output_type": "stream",
     "text": [
      "{'experiments': [{'created_at': datetime.datetime(2024, 2, 17, 17, 59, 4, tzinfo=tzlocal()),\n",
      "                  'description': 'my first Kubeflow experiment! ',\n",
      "                  'display_name': 'hello_kubeflow',\n",
      "                  'experiment_id': 'c9e56f11-3433-4cef-a1a4-d3fb20c9b26e',\n",
      "                  'namespace': 'christensenc3526',\n",
      "                  'storage_state': 'AVAILABLE'},\n",
      "                 {'created_at': datetime.datetime(2024, 2, 18, 16, 5, 37, tzinfo=tzlocal()),\n",
      "                  'description': None,\n",
      "                  'display_name': 'new_experiment',\n",
      "                  'experiment_id': 'bc7afbde-6c81-41e5-b7ef-ef81545c36e7',\n",
      "                  'namespace': 'christensenc3526',\n",
      "                  'storage_state': 'AVAILABLE'},\n",
      "                 {'created_at': datetime.datetime(2024, 2, 26, 4, 33, 34, tzinfo=tzlocal()),\n",
      "                  'description': None,\n",
      "                  'display_name': 'Default',\n",
      "                  'experiment_id': '7671697d-de7a-47a8-975a-27b0b89575ee',\n",
      "                  'namespace': 'christensenc3526',\n",
      "                  'storage_state': 'AVAILABLE'}],\n",
      " 'next_page_token': None,\n",
      " 'total_size': 3}\n"
     ]
    },
    {
     "name": "stderr",
     "output_type": "stream",
     "text": [
      "/opt/conda/lib/python3.11/site-packages/kfp/client/client.py:159: FutureWarning: This client only works with Kubeflow Pipeline v2.0.0-beta.2 and later versions.\n",
      "  warnings.warn(\n"
     ]
    }
   ],
   "source": [
    "import kfp\n",
    "from kfp import dsl\n",
    "from kfp import compiler\n",
    "from kfp.client import Client\n",
    "\n",
    "\n",
    "client = kfp.Client()\n",
    "print(client.list_experiments())"
   ]
  },
  {
   "cell_type": "code",
   "execution_count": null,
   "id": "c95a4885-f9c0-4d22-bf4b-7c57d9693d5c",
   "metadata": {},
   "outputs": [],
   "source": [
    "from kfp import dsl\n",
    "@dsl.container_component\n",
    "def say_hello():\n",
    "    return dsl.ContainerSpec(image='', command=['echo'], args=['Hello'])"
   ]
  }
 ],
 "metadata": {
  "kernelspec": {
   "display_name": "Python 3 (ipykernel)",
   "language": "python",
   "name": "python3"
  },
  "language_info": {
   "codemirror_mode": {
    "name": "ipython",
    "version": 3
   },
   "file_extension": ".py",
   "mimetype": "text/x-python",
   "name": "python",
   "nbconvert_exporter": "python",
   "pygments_lexer": "ipython3",
   "version": "3.11.6"
  }
 },
 "nbformat": 4,
 "nbformat_minor": 5
}
