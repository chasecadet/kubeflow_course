{
 "cells": [
  {
   "cell_type": "markdown",
   "id": "d29a39d6-e72e-4986-85ba-18a35eac837f",
   "metadata": {
    "tags": []
   },
   "source": [
    "<p align=\"center\">\n",
    "  <img src=\"techno_volcano.png\" />\n",
    "</p>\n"
   ]
  },
  {
   "cell_type": "code",
   "execution_count": null,
   "id": "073a9ecd-b357-40ef-9448-ab1111556c25",
   "metadata": {},
   "outputs": [],
   "source": [
    "@dsl.component(target_image='chasechristensen/material_cost_component:v1')\n",
    "def calculate_material_cost(radius: float, cost_per_square_unit: float) -> float:\n",
    "    \"\"\"Calculates the cost of materials needed to cover a circle's area.\"\"\"\n",
    "    area = calculate_area(radius)\n",
    "    total_cost = area * cost_per_square_unit\n",
    "    print(f\"The total cost to cover the area of a circle with radius {radius} is: ${total_cost:.2f}\")\n",
    "    return total_cost"
   ]
  },
  {
   "cell_type": "code",
   "execution_count": null,
   "id": "f2656a62-27fe-45f8-9b9d-2e800941a32d",
   "metadata": {},
   "outputs": [],
   "source": [
    "@dsl.pipeline\n",
    "def material_pipeline(x: float, y: float) -> float:\n",
    "    task1 = calculate_material_cost(radius=x, cost_per_square_unit=y)\n",
    "    return task1.output"
   ]
  },
  {
   "cell_type": "code",
   "execution_count": null,
   "id": "934408b7-0a66-4b96-b27b-e5162b2f3116",
   "metadata": {},
   "outputs": [],
   "source": [
    "run = client.create_run_from_pipeline_package(\n",
    "    'pipeline.yml',\n",
    "    arguments={\n",
    "        'x': 2.0,\n",
    "        'y':3.0\n",
    "    },\n",
    ")"
   ]
  },
  {
   "cell_type": "code",
   "execution_count": null,
   "id": "126642e3-113d-4edc-9da5-9e372efedb0c",
   "metadata": {},
   "outputs": [],
   "source": []
  }
 ],
 "metadata": {
  "kernelspec": {
   "display_name": "Python 3 (ipykernel)",
   "language": "python",
   "name": "python3"
  },
  "language_info": {
   "codemirror_mode": {
    "name": "ipython",
    "version": 3
   },
   "file_extension": ".py",
   "mimetype": "text/x-python",
   "name": "python",
   "nbconvert_exporter": "python",
   "pygments_lexer": "ipython3",
   "version": "3.11.6"
  }
 },
 "nbformat": 4,
 "nbformat_minor": 5
}
