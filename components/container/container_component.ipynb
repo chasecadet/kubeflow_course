{
 "cells": [
  {
   "cell_type": "markdown",
   "id": "8aa2c88a-d7a3-4b45-a203-9838e0c0bd1a",
   "metadata": {
    "tags": []
   },
   "source": [
    "<p align=\"center\">\n",
    "  <img src=\"R_container.png\" />\n",
    "</p>\n"
   ]
  },
  {
   "cell_type": "markdown",
   "id": "e96ccbbc-4ed7-4cdc-adc9-337fa82ac82e",
   "metadata": {},
   "source": [
    "# Introduction\n",
    "This Kubeflow notebook will first ensure we can connect to the Kubeflow Pipeline Client. Then, it will define a container component called *generate_quote*, create a pipeline called quote_pipeline, and lastly submit the pipeline to the KFP SDK. We will then be able to see the pipeline run and associated artifacts within the Kubeflow Central Dashboard. Run each cell below in order and to view the results."
   ]
  },
  {
   "cell_type": "code",
   "execution_count": 2,
   "id": "0325f0c7-7489-485a-969f-c2e27c686c09",
   "metadata": {
    "tags": []
   },
   "outputs": [
    {
     "name": "stdout",
     "output_type": "stream",
     "text": [
      "{'experiments': [{'created_at': datetime.datetime(2024, 2, 17, 17, 59, 4, tzinfo=tzlocal()),\n",
      "                  'description': 'my first Kubeflow experiment! ',\n",
      "                  'display_name': 'hello_kubeflow',\n",
      "                  'experiment_id': 'c9e56f11-3433-4cef-a1a4-d3fb20c9b26e',\n",
      "                  'namespace': 'christensenc3526',\n",
      "                  'storage_state': 'AVAILABLE'},\n",
      "                 {'created_at': datetime.datetime(2024, 2, 18, 16, 5, 37, tzinfo=tzlocal()),\n",
      "                  'description': None,\n",
      "                  'display_name': 'new_experiment',\n",
      "                  'experiment_id': 'bc7afbde-6c81-41e5-b7ef-ef81545c36e7',\n",
      "                  'namespace': 'christensenc3526',\n",
      "                  'storage_state': 'AVAILABLE'},\n",
      "                 {'created_at': datetime.datetime(2024, 2, 26, 4, 33, 34, tzinfo=tzlocal()),\n",
      "                  'description': None,\n",
      "                  'display_name': 'Default',\n",
      "                  'experiment_id': '7671697d-de7a-47a8-975a-27b0b89575ee',\n",
      "                  'namespace': 'christensenc3526',\n",
      "                  'storage_state': 'AVAILABLE'}],\n",
      " 'next_page_token': None,\n",
      " 'total_size': 3}\n"
     ]
    },
    {
     "name": "stderr",
     "output_type": "stream",
     "text": [
      "/opt/conda/lib/python3.11/site-packages/kfp/client/client.py:159: FutureWarning: This client only works with Kubeflow Pipeline v2.0.0-beta.2 and later versions.\n",
      "  warnings.warn(\n"
     ]
    }
   ],
   "source": [
    "import kfp\n",
    "from kfp import dsl\n",
    "from kfp import compiler\n",
    "from kfp.client import Client\n",
    "\n",
    "\n",
    "client = kfp.Client()\n",
    "print(client.list_experiments())"
   ]
  },
  {
   "cell_type": "code",
   "execution_count": 14,
   "id": "c95a4885-f9c0-4d22-bf4b-7c57d9693d5c",
   "metadata": {},
   "outputs": [],
   "source": [
    "@dsl.container_component\n",
    "def generate_quote(total_cost: float, state_tax: float, quote: dsl.OutputPath(str)):\n",
    "    \"\"\"output a quote\"\"\"\n",
    "    return dsl.ContainerSpec(\n",
    "        image='chasechristensen/generate_quote:v1',\n",
    "        command=[\n",
    "            \"Rscript\",\"/usr/local/bin/generate_quote.r\"\n",
    "        ],\n",
    "        args=[total_cost,state_tax,quote])"
   ]
  },
  {
   "cell_type": "code",
   "execution_count": 15,
   "id": "5e475b1b-8315-4529-836c-18e5cf416804",
   "metadata": {
    "tags": []
   },
   "outputs": [],
   "source": [
    "@dsl.pipeline\n",
    "def quote_pipeline(x: float, y: float) -> str:\n",
    "    task1 = generate_quote(total_cost=x, state_tax=y)\n",
    "    return task1.output\n"
   ]
  },
  {
   "cell_type": "code",
   "execution_count": 16,
   "id": "8cbef545-7fa5-435b-8a4c-81a0a213e166",
   "metadata": {
    "tags": []
   },
   "outputs": [],
   "source": [
    "compiler.Compiler().compile(quote_pipeline, 'pipeline.yml')"
   ]
  },
  {
   "cell_type": "code",
   "execution_count": 17,
   "id": "49bf3e0d-1364-4a1f-8e1e-71f4daa99929",
   "metadata": {
    "tags": []
   },
   "outputs": [
    {
     "data": {
      "text/html": [
       "<a href=\"/pipeline/#/experiments/details/7671697d-de7a-47a8-975a-27b0b89575ee\" target=\"_blank\" >Experiment details</a>."
      ],
      "text/plain": [
       "<IPython.core.display.HTML object>"
      ]
     },
     "metadata": {},
     "output_type": "display_data"
    },
    {
     "data": {
      "text/html": [
       "<a href=\"/pipeline/#/runs/details/dfd40dfa-ffb7-4c4a-af4c-41423aeddbf6\" target=\"_blank\" >Run details</a>."
      ],
      "text/plain": [
       "<IPython.core.display.HTML object>"
      ]
     },
     "metadata": {},
     "output_type": "display_data"
    }
   ],
   "source": [
    "run = client.create_run_from_pipeline_package(\n",
    "    'pipeline.yml',\n",
    "    arguments={\n",
    "        'x': 500.0,\n",
    "        'y':0.35\n",
    "    },\n",
    ")"
   ]
  },
  {
   "cell_type": "code",
   "execution_count": null,
   "id": "9212c9cd-10e8-49e3-904c-57e1258483ed",
   "metadata": {},
   "outputs": [],
   "source": []
  },
  {
   "cell_type": "code",
   "execution_count": null,
   "id": "d49ad393-24f0-4a27-9e2f-6e681f8cfb21",
   "metadata": {},
   "outputs": [],
   "source": []
  },
  {
   "cell_type": "code",
   "execution_count": null,
   "id": "eee94761-499d-460e-a233-62d2f18eb3e6",
   "metadata": {},
   "outputs": [],
   "source": []
  }
 ],
 "metadata": {
  "kernelspec": {
   "display_name": "Python 3 (ipykernel)",
   "language": "python",
   "name": "python3"
  },
  "language_info": {
   "codemirror_mode": {
    "name": "ipython",
    "version": 3
   },
   "file_extension": ".py",
   "mimetype": "text/x-python",
   "name": "python",
   "nbconvert_exporter": "python",
   "pygments_lexer": "ipython3",
   "version": "3.11.6"
  }
 },
 "nbformat": 4,
 "nbformat_minor": 5
}
